{
 "cells": [
  {
   "cell_type": "code",
   "execution_count": 1,
   "metadata": {},
   "outputs": [],
   "source": [
    "import tabula"
   ]
  },
  {
   "cell_type": "code",
   "execution_count": 2,
   "metadata": {},
   "outputs": [
    {
     "name": "stderr",
     "output_type": "stream",
     "text": [
      "Got stderr: Oct 30, 2021 6:40:42 PM org.apache.pdfbox.pdmodel.font.FileSystemFontProvider loadDiskCache\n",
      "WARNING: New fonts found, font cache will be re-built\n",
      "Oct 30, 2021 6:40:42 PM org.apache.pdfbox.pdmodel.font.FileSystemFontProvider <init>\n",
      "WARNING: Building on-disk font cache, this may take a while\n",
      "Oct 30, 2021 6:40:42 PM org.apache.pdfbox.pdmodel.font.FileSystemFontProvider <init>\n",
      "WARNING: Finished building on-disk font cache, found 471 fonts\n",
      "Oct 30, 2021 6:40:48 PM org.apache.fontbox.ttf.CmapSubtable processSubtype14\n",
      "WARNING: Format 14 cmap table is not supported and will be ignored\n",
      "Oct 30, 2021 6:40:49 PM org.apache.fontbox.ttf.CmapSubtable processSubtype14\n",
      "WARNING: Format 14 cmap table is not supported and will be ignored\n",
      "Oct 30, 2021 6:40:52 PM org.apache.fontbox.ttf.CmapSubtable processSubtype14\n",
      "WARNING: Format 14 cmap table is not supported and will be ignored\n",
      "Oct 30, 2021 6:40:57 PM org.apache.fontbox.ttf.CmapSubtable processSubtype14\n",
      "WARNING: Format 14 cmap table is not supported and will be ignored\n",
      "Oct 30, 2021 6:41:00 PM org.apache.fontbox.ttf.CmapSubtable processSubtype14\n",
      "WARNING: Format 14 cmap table is not supported and will be ignored\n",
      "Oct 30, 2021 6:41:01 PM org.apache.fontbox.ttf.CmapSubtable processSubtype14\n",
      "WARNING: Format 14 cmap table is not supported and will be ignored\n",
      "Oct 30, 2021 6:41:13 PM org.apache.fontbox.ttf.CmapSubtable processSubtype14\n",
      "WARNING: Format 14 cmap table is not supported and will be ignored\n",
      "Oct 30, 2021 6:41:14 PM org.apache.fontbox.ttf.CmapSubtable processSubtype14\n",
      "WARNING: Format 14 cmap table is not supported and will be ignored\n",
      "Oct 30, 2021 6:41:15 PM org.apache.fontbox.ttf.CmapSubtable processSubtype14\n",
      "WARNING: Format 14 cmap table is not supported and will be ignored\n",
      "Oct 30, 2021 6:41:16 PM org.apache.fontbox.ttf.CmapSubtable processSubtype14\n",
      "WARNING: Format 14 cmap table is not supported and will be ignored\n",
      "Oct 30, 2021 6:41:16 PM org.apache.fontbox.ttf.CmapSubtable processSubtype14\n",
      "WARNING: Format 14 cmap table is not supported and will be ignored\n",
      "Oct 30, 2021 6:41:17 PM org.apache.fontbox.ttf.CmapSubtable processSubtype14\n",
      "WARNING: Format 14 cmap table is not supported and will be ignored\n",
      "Oct 30, 2021 6:41:18 PM org.apache.fontbox.ttf.CmapSubtable processSubtype14\n",
      "WARNING: Format 14 cmap table is not supported and will be ignored\n",
      "Oct 30, 2021 6:41:19 PM org.apache.fontbox.ttf.CmapSubtable processSubtype14\n",
      "WARNING: Format 14 cmap table is not supported and will be ignored\n",
      "Oct 30, 2021 6:41:19 PM org.apache.fontbox.ttf.CmapSubtable processSubtype14\n",
      "WARNING: Format 14 cmap table is not supported and will be ignored\n",
      "Oct 30, 2021 6:41:20 PM org.apache.fontbox.ttf.CmapSubtable processSubtype14\n",
      "WARNING: Format 14 cmap table is not supported and will be ignored\n",
      "Oct 30, 2021 6:41:21 PM org.apache.fontbox.ttf.CmapSubtable processSubtype14\n",
      "WARNING: Format 14 cmap table is not supported and will be ignored\n",
      "Oct 30, 2021 6:41:22 PM org.apache.fontbox.ttf.CmapSubtable processSubtype14\n",
      "WARNING: Format 14 cmap table is not supported and will be ignored\n",
      "Oct 30, 2021 6:41:23 PM org.apache.fontbox.ttf.CmapSubtable processSubtype14\n",
      "WARNING: Format 14 cmap table is not supported and will be ignored\n",
      "Oct 30, 2021 6:41:26 PM org.apache.fontbox.ttf.CmapSubtable processSubtype14\n",
      "WARNING: Format 14 cmap table is not supported and will be ignored\n",
      "Oct 30, 2021 6:41:31 PM org.apache.fontbox.ttf.CmapSubtable processSubtype14\n",
      "WARNING: Format 14 cmap table is not supported and will be ignored\n",
      "Oct 30, 2021 6:41:34 PM org.apache.fontbox.ttf.CmapSubtable processSubtype14\n",
      "WARNING: Format 14 cmap table is not supported and will be ignored\n",
      "\n"
     ]
    },
    {
     "data": {
      "text/html": [
       "<div>\n",
       "<style scoped>\n",
       "    .dataframe tbody tr th:only-of-type {\n",
       "        vertical-align: middle;\n",
       "    }\n",
       "\n",
       "    .dataframe tbody tr th {\n",
       "        vertical-align: top;\n",
       "    }\n",
       "\n",
       "    .dataframe thead th {\n",
       "        text-align: right;\n",
       "    }\n",
       "</style>\n",
       "<table border=\"1\" class=\"dataframe\">\n",
       "  <thead>\n",
       "    <tr style=\"text-align: right;\">\n",
       "      <th></th>\n",
       "      <th>1</th>\n",
       "      <th>OVERVIEW ................................................................................................................... 3</th>\n",
       "    </tr>\n",
       "  </thead>\n",
       "  <tbody>\n",
       "    <tr>\n",
       "      <th>0</th>\n",
       "      <td>2</td>\n",
       "      <td>INTRODUCTION ....................................</td>\n",
       "    </tr>\n",
       "    <tr>\n",
       "      <th>1</th>\n",
       "      <td>3</td>\n",
       "      <td>HISTORY/CONTEXT .................................</td>\n",
       "    </tr>\n",
       "    <tr>\n",
       "      <th>2</th>\n",
       "      <td>4</td>\n",
       "      <td>METHODOLOGY AND APPROACH ........................</td>\n",
       "    </tr>\n",
       "    <tr>\n",
       "      <th>3</th>\n",
       "      <td>4.1</td>\n",
       "      <td>Introduction ....................................</td>\n",
       "    </tr>\n",
       "    <tr>\n",
       "      <th>4</th>\n",
       "      <td>5</td>\n",
       "      <td>SCOPE 1 &amp; 2 .....................................</td>\n",
       "    </tr>\n",
       "    <tr>\n",
       "      <th>...</th>\n",
       "      <td>...</td>\n",
       "      <td>...</td>\n",
       "    </tr>\n",
       "    <tr>\n",
       "      <th>59</th>\n",
       "      <td>TELEPRESENCE ....................................</td>\n",
       "      <td>NaN</td>\n",
       "    </tr>\n",
       "    <tr>\n",
       "      <th>60</th>\n",
       "      <td>BROADBAND ENABLED DE-MATERIALISATION ............</td>\n",
       "      <td>NaN</td>\n",
       "    </tr>\n",
       "    <tr>\n",
       "      <th>61</th>\n",
       "      <td>NaN</td>\n",
       "      <td>NaN</td>\n",
       "    </tr>\n",
       "    <tr>\n",
       "      <th>62</th>\n",
       "      <td>BT 3:1 Carbon Abatement Methodology</td>\n",
       "      <td>page 2 of 75</td>\n",
       "    </tr>\n",
       "    <tr>\n",
       "      <th>63</th>\n",
       "      <td>May 2020</td>\n",
       "      <td>NaN</td>\n",
       "    </tr>\n",
       "  </tbody>\n",
       "</table>\n",
       "<p>64 rows × 2 columns</p>\n",
       "</div>"
      ],
      "text/plain": [
       "                                                    1  \\\n",
       "0                                                   2   \n",
       "1                                                   3   \n",
       "2                                                   4   \n",
       "3                                                 4.1   \n",
       "4                                                   5   \n",
       "..                                                ...   \n",
       "59  TELEPRESENCE ....................................   \n",
       "60  BROADBAND ENABLED DE-MATERIALISATION ............   \n",
       "61                                                NaN   \n",
       "62                BT 3:1 Carbon Abatement Methodology   \n",
       "63                                           May 2020   \n",
       "\n",
       "   OVERVIEW ................................................................................................................... 3  \n",
       "0   INTRODUCTION ....................................                                                                              \n",
       "1   HISTORY/CONTEXT .................................                                                                              \n",
       "2   METHODOLOGY AND APPROACH ........................                                                                              \n",
       "3   Introduction ....................................                                                                              \n",
       "4   SCOPE 1 & 2 .....................................                                                                              \n",
       "..                                                ...                                                                              \n",
       "59                                                NaN                                                                              \n",
       "60                                                NaN                                                                              \n",
       "61                                                NaN                                                                              \n",
       "62                                       page 2 of 75                                                                              \n",
       "63                                                NaN                                                                              \n",
       "\n",
       "[64 rows x 2 columns]"
      ]
     },
     "execution_count": 2,
     "metadata": {},
     "output_type": "execute_result"
    }
   ],
   "source": [
    "file = r'2020_bt_3to1_methodology.pdf'\n",
    "tables = tabula.read_pdf(file, pages = \"all\", multiple_tables = True)\n",
    "tables[0]"
   ]
  },
  {
   "cell_type": "code",
   "execution_count": 61,
   "metadata": {},
   "outputs": [
    {
     "data": {
      "text/html": [
       "<div>\n",
       "<style scoped>\n",
       "    .dataframe tbody tr th:only-of-type {\n",
       "        vertical-align: middle;\n",
       "    }\n",
       "\n",
       "    .dataframe tbody tr th {\n",
       "        vertical-align: top;\n",
       "    }\n",
       "\n",
       "    .dataframe thead th {\n",
       "        text-align: right;\n",
       "    }\n",
       "</style>\n",
       "<table border=\"1\" class=\"dataframe\">\n",
       "  <thead>\n",
       "    <tr style=\"text-align: right;\">\n",
       "      <th></th>\n",
       "      <th>2021\\rTonnes</th>\n",
       "    </tr>\n",
       "  </thead>\n",
       "  <tbody>\n",
       "    <tr>\n",
       "      <th>0</th>\n",
       "      <td>36,914</td>\n",
       "    </tr>\n",
       "    <tr>\n",
       "      <th>1</th>\n",
       "      <td>43,656</td>\n",
       "    </tr>\n",
       "    <tr>\n",
       "      <th>2</th>\n",
       "      <td>67,474</td>\n",
       "    </tr>\n",
       "    <tr>\n",
       "      <th>3</th>\n",
       "      <td>148,044</td>\n",
       "    </tr>\n",
       "  </tbody>\n",
       "</table>\n",
       "</div>"
      ],
      "text/plain": [
       "  2021\\rTonnes\n",
       "0       36,914\n",
       "1       43,656\n",
       "2       67,474\n",
       "3      148,044"
      ]
     },
     "execution_count": 61,
     "metadata": {},
     "output_type": "execute_result"
    }
   ],
   "source": [
    "tables[1]"
   ]
  },
  {
   "cell_type": "code",
   "execution_count": null,
   "metadata": {},
   "outputs": [],
   "source": [
    "tabula.convert_into(file, \"annual-summary-and-sustainability-report-fy19_compressed.csv\")\n"
   ]
  },
  {
   "cell_type": "code",
   "execution_count": 62,
   "metadata": {},
   "outputs": [],
   "source": [
    "tables[1].to_csv(r'cr-2021-environment.csv',index=False)"
   ]
  },
  {
   "cell_type": "code",
   "execution_count": 7,
   "metadata": {},
   "outputs": [
    {
     "name": "stdout",
     "output_type": "stream",
     "text": [
      "C:\\Users\\jacks\\Documents\\Document(Offline)\\Barcanet\\Data Mining\\Data Mining Test 0.3\\Filtered\\bbc\n",
      "['2020_bt_3to1_methodology.pdf', 'albert-Carbon-Calculator-Methodology-paper-2021.pdf', 'bracknell-forest-climate-change-strategy.pdf', 'TBC Baseline Emissions Action Plan - Final Report - June 2020 12.6.2020.pdf', 'TCLPGlossaryEditionTwoSept2020.pdf']\n",
      "C:\\Users\\jacks\\Documents\\Document(Offline)\\Barcanet\\Data Mining\\Data Mining Test 0.3\\Filtered\\bbc\\2020_bt_3to1_methodology.pdf\n"
     ]
    },
    {
     "name": "stderr",
     "output_type": "stream",
     "text": [
      "Got stderr: Oct 30, 2021 7:57:44 PM org.apache.fontbox.ttf.CmapSubtable processSubtype14\n",
      "WARNING: Format 14 cmap table is not supported and will be ignored\n",
      "Oct 30, 2021 7:57:44 PM org.apache.fontbox.ttf.CmapSubtable processSubtype14\n",
      "WARNING: Format 14 cmap table is not supported and will be ignored\n",
      "\n"
     ]
    },
    {
     "name": "stdout",
     "output_type": "stream",
     "text": [
      "C:\\Users\\jacks\\Documents\\Document(Offline)\\Barcanet\\Data Mining\\Data Mining Test 0.3\\Filtered\\bbc\\albert-Carbon-Calculator-Methodology-paper-2021.pdf\n",
      "C:\\Users\\jacks\\Documents\\Document(Offline)\\Barcanet\\Data Mining\\Data Mining Test 0.3\\Filtered\\bbc\\bracknell-forest-climate-change-strategy.pdf\n",
      "C:\\Users\\jacks\\Documents\\Document(Offline)\\Barcanet\\Data Mining\\Data Mining Test 0.3\\Filtered\\bbc\\TBC Baseline Emissions Action Plan - Final Report - June 2020 12.6.2020.pdf\n",
      "C:\\Users\\jacks\\Documents\\Document(Offline)\\Barcanet\\Data Mining\\Data Mining Test 0.3\\Filtered\\bbc\\TCLPGlossaryEditionTwoSept2020.pdf\n",
      "C:\\Users\\jacks\\Documents\\Document(Offline)\\Barcanet\\Data Mining\\Data Mining Test 0.3\\Filtered\\coca-cola european partners\n",
      "['2019-Assurance-Statement.pdf', '2019-cdp-climate-change-response.pdf', '2020-Assurance-Statement.pdf', '2021_03_12_CCEP_IntegratedReport_WEB_StrategicReportpdf.pdf', 'CCEP-2019-Integrated-Report-v2.pdf', 'CCEP-2020-Integrated-Report_FINAL.pdf', 'CCEP_2018_Integrated-Report_WEB.pdf', 'coca-cola-business-and-sustainability-report-2019+(1)+(4).pdf', 'sb_report2019.pdf']\n",
      "C:\\Users\\jacks\\Documents\\Document(Offline)\\Barcanet\\Data Mining\\Data Mining Test 0.3\\Filtered\\coca-cola european partners\\2019-Assurance-Statement.pdf\n",
      "C:\\Users\\jacks\\Documents\\Document(Offline)\\Barcanet\\Data Mining\\Data Mining Test 0.3\\Filtered\\coca-cola european partners\\2019-cdp-climate-change-response.pdf\n",
      "C:\\Users\\jacks\\Documents\\Document(Offline)\\Barcanet\\Data Mining\\Data Mining Test 0.3\\Filtered\\coca-cola european partners\\2020-Assurance-Statement.pdf\n",
      "C:\\Users\\jacks\\Documents\\Document(Offline)\\Barcanet\\Data Mining\\Data Mining Test 0.3\\Filtered\\coca-cola european partners\\2021_03_12_CCEP_IntegratedReport_WEB_StrategicReportpdf.pdf\n"
     ]
    },
    {
     "name": "stderr",
     "output_type": "stream",
     "text": [
      "Got stderr: Oct 30, 2021 7:58:07 PM org.apache.pdfbox.contentstream.PDFStreamEngine operatorException\n",
      "SEVERE: Cannot read JPEG2000 image: Java Advanced Imaging (JAI) Image I/O Tools are not installed\n",
      "Oct 30, 2021 7:58:07 PM org.apache.pdfbox.contentstream.PDFStreamEngine operatorException\n",
      "SEVERE: Cannot read JPEG2000 image: Java Advanced Imaging (JAI) Image I/O Tools are not installed\n",
      "Oct 30, 2021 7:58:07 PM org.apache.pdfbox.contentstream.PDFStreamEngine operatorException\n",
      "SEVERE: Cannot read JPEG2000 image: Java Advanced Imaging (JAI) Image I/O Tools are not installed\n",
      "Oct 30, 2021 7:58:07 PM org.apache.pdfbox.contentstream.PDFStreamEngine operatorException\n",
      "SEVERE: Cannot read JPEG2000 image: Java Advanced Imaging (JAI) Image I/O Tools are not installed\n",
      "Oct 30, 2021 7:58:07 PM org.apache.pdfbox.contentstream.PDFStreamEngine operatorException\n",
      "SEVERE: Cannot read JPEG2000 image: Java Advanced Imaging (JAI) Image I/O Tools are not installed\n",
      "Oct 30, 2021 7:58:07 PM org.apache.pdfbox.contentstream.PDFStreamEngine operatorException\n",
      "SEVERE: Cannot read JPEG2000 image: Java Advanced Imaging (JAI) Image I/O Tools are not installed\n",
      "Oct 30, 2021 7:58:07 PM org.apache.pdfbox.contentstream.PDFStreamEngine operatorException\n",
      "SEVERE: Cannot read JPEG2000 image: Java Advanced Imaging (JAI) Image I/O Tools are not installed\n",
      "Oct 30, 2021 7:58:07 PM org.apache.pdfbox.contentstream.PDFStreamEngine operatorException\n",
      "SEVERE: Cannot read JPEG2000 image: Java Advanced Imaging (JAI) Image I/O Tools are not installed\n",
      "Oct 30, 2021 7:58:07 PM org.apache.pdfbox.contentstream.PDFStreamEngine operatorException\n",
      "SEVERE: Cannot read JPEG2000 image: Java Advanced Imaging (JAI) Image I/O Tools are not installed\n",
      "Oct 30, 2021 7:58:07 PM org.apache.pdfbox.contentstream.PDFStreamEngine operatorException\n",
      "SEVERE: Cannot read JPEG2000 image: Java Advanced Imaging (JAI) Image I/O Tools are not installed\n",
      "Oct 30, 2021 7:58:07 PM org.apache.pdfbox.contentstream.PDFStreamEngine operatorException\n",
      "SEVERE: Cannot read JPEG2000 image: Java Advanced Imaging (JAI) Image I/O Tools are not installed\n",
      "Oct 30, 2021 7:58:07 PM org.apache.pdfbox.contentstream.PDFStreamEngine operatorException\n",
      "SEVERE: Cannot read JPEG2000 image: Java Advanced Imaging (JAI) Image I/O Tools are not installed\n",
      "Oct 30, 2021 7:58:07 PM org.apache.pdfbox.contentstream.PDFStreamEngine operatorException\n",
      "SEVERE: Cannot read JPEG2000 image: Java Advanced Imaging (JAI) Image I/O Tools are not installed\n",
      "Oct 30, 2021 7:58:07 PM org.apache.pdfbox.contentstream.PDFStreamEngine operatorException\n",
      "SEVERE: Cannot read JPEG2000 image: Java Advanced Imaging (JAI) Image I/O Tools are not installed\n",
      "Oct 30, 2021 7:58:07 PM org.apache.pdfbox.contentstream.PDFStreamEngine operatorException\n",
      "SEVERE: Cannot read JPEG2000 image: Java Advanced Imaging (JAI) Image I/O Tools are not installed\n",
      "Oct 30, 2021 7:58:07 PM org.apache.pdfbox.contentstream.PDFStreamEngine operatorException\n",
      "SEVERE: Cannot read JPEG2000 image: Java Advanced Imaging (JAI) Image I/O Tools are not installed\n",
      "Oct 30, 2021 7:58:07 PM org.apache.pdfbox.contentstream.PDFStreamEngine operatorException\n",
      "SEVERE: Cannot read JPEG2000 image: Java Advanced Imaging (JAI) Image I/O Tools are not installed\n",
      "Oct 30, 2021 7:58:08 PM org.apache.pdfbox.contentstream.PDFStreamEngine operatorException\n",
      "SEVERE: Cannot read JPEG2000 image: Java Advanced Imaging (JAI) Image I/O Tools are not installed\n",
      "Oct 30, 2021 7:58:08 PM org.apache.pdfbox.contentstream.PDFStreamEngine operatorException\n",
      "SEVERE: Cannot read JPEG2000 image: Java Advanced Imaging (JAI) Image I/O Tools are not installed\n",
      "Oct 30, 2021 7:58:08 PM org.apache.pdfbox.contentstream.PDFStreamEngine operatorException\n",
      "SEVERE: Cannot read JPEG2000 image: Java Advanced Imaging (JAI) Image I/O Tools are not installed\n",
      "Oct 30, 2021 7:58:08 PM org.apache.pdfbox.contentstream.PDFStreamEngine operatorException\n",
      "SEVERE: Cannot read JPEG2000 image: Java Advanced Imaging (JAI) Image I/O Tools are not installed\n",
      "Oct 30, 2021 7:58:08 PM org.apache.pdfbox.contentstream.PDFStreamEngine operatorException\n",
      "SEVERE: Cannot read JPEG2000 image: Java Advanced Imaging (JAI) Image I/O Tools are not installed\n",
      "Oct 30, 2021 7:58:08 PM org.apache.pdfbox.contentstream.PDFStreamEngine operatorException\n",
      "SEVERE: Cannot read JPEG2000 image: Java Advanced Imaging (JAI) Image I/O Tools are not installed\n",
      "Oct 30, 2021 7:58:08 PM org.apache.pdfbox.contentstream.PDFStreamEngine operatorException\n",
      "SEVERE: Cannot read JPEG2000 image: Java Advanced Imaging (JAI) Image I/O Tools are not installed\n",
      "Oct 30, 2021 7:58:08 PM org.apache.pdfbox.contentstream.PDFStreamEngine operatorException\n",
      "SEVERE: Cannot read JPEG2000 image: Java Advanced Imaging (JAI) Image I/O Tools are not installed\n",
      "Oct 30, 2021 7:58:08 PM org.apache.pdfbox.contentstream.PDFStreamEngine operatorException\n",
      "SEVERE: Cannot read JPEG2000 image: Java Advanced Imaging (JAI) Image I/O Tools are not installed\n",
      "Oct 30, 2021 7:58:08 PM org.apache.pdfbox.contentstream.PDFStreamEngine operatorException\n",
      "SEVERE: Cannot read JPEG2000 image: Java Advanced Imaging (JAI) Image I/O Tools are not installed\n",
      "Oct 30, 2021 7:58:08 PM org.apache.pdfbox.contentstream.PDFStreamEngine operatorException\n",
      "SEVERE: Cannot read JPEG2000 image: Java Advanced Imaging (JAI) Image I/O Tools are not installed\n",
      "Oct 30, 2021 7:58:08 PM org.apache.pdfbox.contentstream.PDFStreamEngine operatorException\n",
      "SEVERE: Cannot read JPEG2000 image: Java Advanced Imaging (JAI) Image I/O Tools are not installed\n",
      "Oct 30, 2021 7:58:08 PM org.apache.pdfbox.contentstream.PDFStreamEngine operatorException\n",
      "SEVERE: Cannot read JPEG2000 image: Java Advanced Imaging (JAI) Image I/O Tools are not installed\n",
      "Oct 30, 2021 7:58:08 PM org.apache.pdfbox.contentstream.PDFStreamEngine operatorException\n",
      "SEVERE: Cannot read JPEG2000 image: Java Advanced Imaging (JAI) Image I/O Tools are not installed\n",
      "Oct 30, 2021 7:58:08 PM org.apache.pdfbox.contentstream.PDFStreamEngine operatorException\n",
      "SEVERE: Cannot read JPEG2000 image: Java Advanced Imaging (JAI) Image I/O Tools are not installed\n",
      "Oct 30, 2021 7:58:08 PM org.apache.pdfbox.contentstream.PDFStreamEngine operatorException\n",
      "SEVERE: Cannot read JPEG2000 image: Java Advanced Imaging (JAI) Image I/O Tools are not installed\n",
      "\n"
     ]
    },
    {
     "name": "stdout",
     "output_type": "stream",
     "text": [
      "C:\\Users\\jacks\\Documents\\Document(Offline)\\Barcanet\\Data Mining\\Data Mining Test 0.3\\Filtered\\coca-cola european partners\\CCEP-2019-Integrated-Report-v2.pdf\n",
      "C:\\Users\\jacks\\Documents\\Document(Offline)\\Barcanet\\Data Mining\\Data Mining Test 0.3\\Filtered\\coca-cola european partners\\CCEP-2020-Integrated-Report_FINAL.pdf\n",
      "C:\\Users\\jacks\\Documents\\Document(Offline)\\Barcanet\\Data Mining\\Data Mining Test 0.3\\Filtered\\coca-cola european partners\\CCEP_2018_Integrated-Report_WEB.pdf\n",
      "C:\\Users\\jacks\\Documents\\Document(Offline)\\Barcanet\\Data Mining\\Data Mining Test 0.3\\Filtered\\coca-cola european partners\\coca-cola-business-and-sustainability-report-2019+(1)+(4).pdf\n",
      "C:\\Users\\jacks\\Documents\\Document(Offline)\\Barcanet\\Data Mining\\Data Mining Test 0.3\\Filtered\\coca-cola european partners\\sb_report2019.pdf\n",
      "C:\\Users\\jacks\\Documents\\Document(Offline)\\Barcanet\\Data Mining\\Data Mining Test 0.3\\Filtered\\dunelm\n",
      "['annual-report-2020.pdf', 'annual-report-and-accounts-fy-2020_21.pdf', 'annual-report-and-accounts-jan20.pdf', 'annual-report-and-accounts-jan21.pdf', 'dunelm-ar2019.pdf', 'dunelm-ar2020.pdf', 'dunelm-sustainability-review-2019-2020.pdf', 'lofbergs_sustainability_report_1920.pdf', 'm-and-s_ar20_full_200528.pdf', 'scs-37406-annual-report-2021-web.pdf']\n",
      "C:\\Users\\jacks\\Documents\\Document(Offline)\\Barcanet\\Data Mining\\Data Mining Test 0.3\\Filtered\\dunelm\\annual-report-2020.pdf\n"
     ]
    },
    {
     "name": "stderr",
     "output_type": "stream",
     "text": [
      "Got stderr: Oct 30, 2021 7:58:29 PM org.apache.pdfbox.contentstream.PDFStreamEngine operatorException\n",
      "SEVERE: Cannot read JPEG2000 image: Java Advanced Imaging (JAI) Image I/O Tools are not installed\n",
      "Oct 30, 2021 7:58:29 PM org.apache.pdfbox.contentstream.PDFStreamEngine operatorException\n",
      "SEVERE: Cannot read JPEG2000 image: Java Advanced Imaging (JAI) Image I/O Tools are not installed\n",
      "Oct 30, 2021 7:58:29 PM org.apache.pdfbox.contentstream.PDFStreamEngine operatorException\n",
      "SEVERE: Cannot read JPEG2000 image: Java Advanced Imaging (JAI) Image I/O Tools are not installed\n",
      "Oct 30, 2021 7:58:30 PM org.apache.pdfbox.contentstream.PDFStreamEngine operatorException\n",
      "SEVERE: Cannot read JPEG2000 image: Java Advanced Imaging (JAI) Image I/O Tools are not installed\n",
      "Oct 30, 2021 7:58:30 PM org.apache.pdfbox.contentstream.PDFStreamEngine operatorException\n",
      "SEVERE: Cannot read JPEG2000 image: Java Advanced Imaging (JAI) Image I/O Tools are not installed\n",
      "Oct 30, 2021 7:58:30 PM org.apache.pdfbox.contentstream.PDFStreamEngine operatorException\n",
      "SEVERE: Cannot read JPEG2000 image: Java Advanced Imaging (JAI) Image I/O Tools are not installed\n",
      "Oct 30, 2021 7:58:30 PM org.apache.pdfbox.contentstream.PDFStreamEngine operatorException\n",
      "SEVERE: Cannot read JPEG2000 image: Java Advanced Imaging (JAI) Image I/O Tools are not installed\n",
      "Oct 30, 2021 7:58:30 PM org.apache.pdfbox.contentstream.PDFStreamEngine operatorException\n",
      "SEVERE: Cannot read JPEG2000 image: Java Advanced Imaging (JAI) Image I/O Tools are not installed\n",
      "Oct 30, 2021 7:58:30 PM org.apache.pdfbox.contentstream.PDFStreamEngine operatorException\n",
      "SEVERE: Cannot read JPEG2000 image: Java Advanced Imaging (JAI) Image I/O Tools are not installed\n",
      "\n"
     ]
    },
    {
     "name": "stdout",
     "output_type": "stream",
     "text": [
      "C:\\Users\\jacks\\Documents\\Document(Offline)\\Barcanet\\Data Mining\\Data Mining Test 0.3\\Filtered\\dunelm\\annual-report-and-accounts-fy-2020_21.pdf\n",
      "C:\\Users\\jacks\\Documents\\Document(Offline)\\Barcanet\\Data Mining\\Data Mining Test 0.3\\Filtered\\dunelm\\annual-report-and-accounts-jan20.pdf\n",
      "C:\\Users\\jacks\\Documents\\Document(Offline)\\Barcanet\\Data Mining\\Data Mining Test 0.3\\Filtered\\dunelm\\annual-report-and-accounts-jan21.pdf\n"
     ]
    },
    {
     "name": "stderr",
     "output_type": "stream",
     "text": [
      "Got stderr: Oct 30, 2021 7:58:38 PM org.apache.pdfbox.contentstream.PDFStreamEngine operatorException\n",
      "SEVERE: Cannot read JPEG2000 image: Java Advanced Imaging (JAI) Image I/O Tools are not installed\n",
      "Oct 30, 2021 7:58:39 PM org.apache.pdfbox.contentstream.PDFStreamEngine operatorException\n",
      "SEVERE: Cannot read JPEG2000 image: Java Advanced Imaging (JAI) Image I/O Tools are not installed\n",
      "Oct 30, 2021 7:58:39 PM org.apache.pdfbox.contentstream.PDFStreamEngine operatorException\n",
      "SEVERE: Cannot read JPEG2000 image: Java Advanced Imaging (JAI) Image I/O Tools are not installed\n",
      "\n"
     ]
    },
    {
     "name": "stdout",
     "output_type": "stream",
     "text": [
      "C:\\Users\\jacks\\Documents\\Document(Offline)\\Barcanet\\Data Mining\\Data Mining Test 0.3\\Filtered\\dunelm\\dunelm-ar2019.pdf\n",
      "C:\\Users\\jacks\\Documents\\Document(Offline)\\Barcanet\\Data Mining\\Data Mining Test 0.3\\Filtered\\dunelm\\dunelm-ar2020.pdf\n",
      "C:\\Users\\jacks\\Documents\\Document(Offline)\\Barcanet\\Data Mining\\Data Mining Test 0.3\\Filtered\\dunelm\\dunelm-sustainability-review-2019-2020.pdf\n",
      "C:\\Users\\jacks\\Documents\\Document(Offline)\\Barcanet\\Data Mining\\Data Mining Test 0.3\\Filtered\\dunelm\\lofbergs_sustainability_report_1920.pdf\n",
      "C:\\Users\\jacks\\Documents\\Document(Offline)\\Barcanet\\Data Mining\\Data Mining Test 0.3\\Filtered\\dunelm\\m-and-s_ar20_full_200528.pdf\n",
      "C:\\Users\\jacks\\Documents\\Document(Offline)\\Barcanet\\Data Mining\\Data Mining Test 0.3\\Filtered\\dunelm\\scs-37406-annual-report-2021-web.pdf\n",
      "C:\\Users\\jacks\\Documents\\Document(Offline)\\Barcanet\\Data Mining\\Data Mining Test 0.3\\Filtered\\ee\n",
      "['bp-esg-datasheet-2020.pdf', 'Consumption-based-Greenhouse-Gas-Emissions-for-Bristol.pdf', 'eon_2019_sustainability_report.pdf', 'FINAL-WWF-UK_Carbon_Footprint_Analysis_Report_March_2020 (003).pdf', 'GHGs-CO2-CO2e-and-Carbon-What-Do-These-Mean-v2.1.pdf', 'GSMA-Webinar-Setting-SBTs.pdf', 'Health cares climate footprint.pdf', 'klimakost-report-on-laerdal-june-2020.pdf']\n",
      "C:\\Users\\jacks\\Documents\\Document(Offline)\\Barcanet\\Data Mining\\Data Mining Test 0.3\\Filtered\\ee\\bp-esg-datasheet-2020.pdf\n",
      "C:\\Users\\jacks\\Documents\\Document(Offline)\\Barcanet\\Data Mining\\Data Mining Test 0.3\\Filtered\\ee\\Consumption-based-Greenhouse-Gas-Emissions-for-Bristol.pdf\n",
      "C:\\Users\\jacks\\Documents\\Document(Offline)\\Barcanet\\Data Mining\\Data Mining Test 0.3\\Filtered\\ee\\eon_2019_sustainability_report.pdf\n"
     ]
    },
    {
     "name": "stderr",
     "output_type": "stream",
     "text": [
      "Got stderr: Oct 30, 2021 7:59:19 PM org.apache.pdfbox.contentstream.PDFStreamEngine operatorException\n",
      "SEVERE: Cannot read JPEG2000 image: Java Advanced Imaging (JAI) Image I/O Tools are not installed\n",
      "Oct 30, 2021 7:59:19 PM org.apache.pdfbox.contentstream.PDFStreamEngine operatorException\n",
      "SEVERE: Cannot read JPEG2000 image: Java Advanced Imaging (JAI) Image I/O Tools are not installed\n",
      "Oct 30, 2021 7:59:19 PM org.apache.pdfbox.contentstream.PDFStreamEngine operatorException\n",
      "SEVERE: Cannot read JPEG2000 image: Java Advanced Imaging (JAI) Image I/O Tools are not installed\n",
      "Oct 30, 2021 7:59:19 PM org.apache.pdfbox.contentstream.PDFStreamEngine operatorException\n",
      "SEVERE: Cannot read JPEG2000 image: Java Advanced Imaging (JAI) Image I/O Tools are not installed\n",
      "Oct 30, 2021 7:59:19 PM org.apache.pdfbox.contentstream.PDFStreamEngine operatorException\n",
      "SEVERE: Cannot read JPEG2000 image: Java Advanced Imaging (JAI) Image I/O Tools are not installed\n",
      "Oct 30, 2021 7:59:19 PM org.apache.pdfbox.contentstream.PDFStreamEngine operatorException\n",
      "SEVERE: Cannot read JPEG2000 image: Java Advanced Imaging (JAI) Image I/O Tools are not installed\n",
      "Oct 30, 2021 7:59:19 PM org.apache.pdfbox.contentstream.PDFStreamEngine operatorException\n",
      "SEVERE: Cannot read JPEG2000 image: Java Advanced Imaging (JAI) Image I/O Tools are not installed\n",
      "Oct 30, 2021 7:59:19 PM org.apache.pdfbox.contentstream.PDFStreamEngine operatorException\n",
      "SEVERE: Cannot read JPEG2000 image: Java Advanced Imaging (JAI) Image I/O Tools are not installed\n",
      "Oct 30, 2021 7:59:19 PM org.apache.pdfbox.contentstream.PDFStreamEngine operatorException\n",
      "SEVERE: Cannot read JPEG2000 image: Java Advanced Imaging (JAI) Image I/O Tools are not installed\n",
      "\n"
     ]
    },
    {
     "name": "stdout",
     "output_type": "stream",
     "text": [
      "C:\\Users\\jacks\\Documents\\Document(Offline)\\Barcanet\\Data Mining\\Data Mining Test 0.3\\Filtered\\ee\\FINAL-WWF-UK_Carbon_Footprint_Analysis_Report_March_2020 (003).pdf\n",
      "C:\\Users\\jacks\\Documents\\Document(Offline)\\Barcanet\\Data Mining\\Data Mining Test 0.3\\Filtered\\ee\\GHGs-CO2-CO2e-and-Carbon-What-Do-These-Mean-v2.1.pdf\n",
      "C:\\Users\\jacks\\Documents\\Document(Offline)\\Barcanet\\Data Mining\\Data Mining Test 0.3\\Filtered\\ee\\GSMA-Webinar-Setting-SBTs.pdf\n",
      "C:\\Users\\jacks\\Documents\\Document(Offline)\\Barcanet\\Data Mining\\Data Mining Test 0.3\\Filtered\\ee\\Health cares climate footprint.pdf\n",
      "C:\\Users\\jacks\\Documents\\Document(Offline)\\Barcanet\\Data Mining\\Data Mining Test 0.3\\Filtered\\ee\\klimakost-report-on-laerdal-june-2020.pdf\n",
      "C:\\Users\\jacks\\Documents\\Document(Offline)\\Barcanet\\Data Mining\\Data Mining Test 0.3\\Filtered\\eg\n",
      "['2021-ghg-conversion-factors-methodology.pdf', 'fy21-carbon-methodology.pdf', 'ghg-and-water-criteria-documents-fy-1920-final-june-23-2020.pdf', 'Guidance_Handbook_2019_FINAL.pdf', 'RT-climate-scope-123-report.pdf', 'SBTi-criteria.pdf', 'Scope-1-2-3-Emissions-2019-03-11-PCCN-Meeting-Keoleian.pdf', 'UNEP-FI-Guidelines-for-Climate-Change-Target-Setting.pdf']\n",
      "C:\\Users\\jacks\\Documents\\Document(Offline)\\Barcanet\\Data Mining\\Data Mining Test 0.3\\Filtered\\eg\\2021-ghg-conversion-factors-methodology.pdf\n",
      "C:\\Users\\jacks\\Documents\\Document(Offline)\\Barcanet\\Data Mining\\Data Mining Test 0.3\\Filtered\\eg\\fy21-carbon-methodology.pdf\n",
      "C:\\Users\\jacks\\Documents\\Document(Offline)\\Barcanet\\Data Mining\\Data Mining Test 0.3\\Filtered\\eg\\ghg-and-water-criteria-documents-fy-1920-final-june-23-2020.pdf\n",
      "C:\\Users\\jacks\\Documents\\Document(Offline)\\Barcanet\\Data Mining\\Data Mining Test 0.3\\Filtered\\eg\\Guidance_Handbook_2019_FINAL.pdf\n",
      "C:\\Users\\jacks\\Documents\\Document(Offline)\\Barcanet\\Data Mining\\Data Mining Test 0.3\\Filtered\\eg\\RT-climate-scope-123-report.pdf\n",
      "C:\\Users\\jacks\\Documents\\Document(Offline)\\Barcanet\\Data Mining\\Data Mining Test 0.3\\Filtered\\eg\\SBTi-criteria.pdf\n"
     ]
    },
    {
     "name": "stderr",
     "output_type": "stream",
     "text": [
      "Got stderr: Oct 30, 2021 8:00:14 PM org.apache.pdfbox.pdmodel.graphics.color.PDICCBased ensureDisplayProfile\n",
      "WARNING: ICC profile is Perceptual, ignoring, treating as Display class\n",
      "Oct 30, 2021 8:00:17 PM org.apache.pdfbox.pdmodel.graphics.color.PDICCBased ensureDisplayProfile\n",
      "WARNING: ICC profile is Perceptual, ignoring, treating as Display class\n",
      "Oct 30, 2021 8:00:20 PM org.apache.pdfbox.pdmodel.graphics.color.PDICCBased ensureDisplayProfile\n",
      "WARNING: ICC profile is Perceptual, ignoring, treating as Display class\n",
      "Oct 30, 2021 8:00:22 PM org.apache.pdfbox.pdmodel.graphics.color.PDICCBased ensureDisplayProfile\n",
      "WARNING: ICC profile is Perceptual, ignoring, treating as Display class\n",
      "Oct 30, 2021 8:00:24 PM org.apache.pdfbox.pdmodel.graphics.color.PDICCBased ensureDisplayProfile\n",
      "WARNING: ICC profile is Perceptual, ignoring, treating as Display class\n",
      "Oct 30, 2021 8:00:27 PM org.apache.pdfbox.pdmodel.graphics.color.PDICCBased ensureDisplayProfile\n",
      "WARNING: ICC profile is Perceptual, ignoring, treating as Display class\n",
      "Oct 30, 2021 8:00:29 PM org.apache.pdfbox.pdmodel.graphics.color.PDICCBased ensureDisplayProfile\n",
      "WARNING: ICC profile is Perceptual, ignoring, treating as Display class\n",
      "Oct 30, 2021 8:00:32 PM org.apache.pdfbox.pdmodel.graphics.color.PDICCBased ensureDisplayProfile\n",
      "WARNING: ICC profile is Perceptual, ignoring, treating as Display class\n",
      "Oct 30, 2021 8:00:34 PM org.apache.pdfbox.pdmodel.graphics.color.PDICCBased ensureDisplayProfile\n",
      "WARNING: ICC profile is Perceptual, ignoring, treating as Display class\n",
      "Oct 30, 2021 8:00:37 PM org.apache.pdfbox.pdmodel.graphics.color.PDICCBased ensureDisplayProfile\n",
      "WARNING: ICC profile is Perceptual, ignoring, treating as Display class\n",
      "Oct 30, 2021 8:00:39 PM org.apache.pdfbox.pdmodel.graphics.color.PDICCBased ensureDisplayProfile\n",
      "WARNING: ICC profile is Perceptual, ignoring, treating as Display class\n",
      "Oct 30, 2021 8:00:42 PM org.apache.pdfbox.pdmodel.graphics.color.PDICCBased ensureDisplayProfile\n",
      "WARNING: ICC profile is Perceptual, ignoring, treating as Display class\n",
      "\n"
     ]
    },
    {
     "name": "stdout",
     "output_type": "stream",
     "text": [
      "C:\\Users\\jacks\\Documents\\Document(Offline)\\Barcanet\\Data Mining\\Data Mining Test 0.3\\Filtered\\eg\\Scope-1-2-3-Emissions-2019-03-11-PCCN-Meeting-Keoleian.pdf\n",
      "C:\\Users\\jacks\\Documents\\Document(Offline)\\Barcanet\\Data Mining\\Data Mining Test 0.3\\Filtered\\eg\\UNEP-FI-Guidelines-for-Climate-Change-Target-Setting.pdf\n",
      "C:\\Users\\jacks\\Documents\\Document(Offline)\\Barcanet\\Data Mining\\Data Mining Test 0.3\\Filtered\\facebook\n",
      "['2020-OCPv-Ali-Fenn-LONG-Keynote-FINAL-ITRENEW-BRANDED.pdf', '2020_FB_Sustainability-Report.pdf', '2021_BL_Sustainability_Accounts.pdf', 'Data-competition-selfie.pdf', 'eon_2019_sustainability_report.pdf', 'esg-data-2020.pdf', 'The-Planet-Mark-Code-of-Practice-V9-FINAL.pdf']\n",
      "C:\\Users\\jacks\\Documents\\Document(Offline)\\Barcanet\\Data Mining\\Data Mining Test 0.3\\Filtered\\facebook\\2020-OCPv-Ali-Fenn-LONG-Keynote-FINAL-ITRENEW-BRANDED.pdf\n",
      "C:\\Users\\jacks\\Documents\\Document(Offline)\\Barcanet\\Data Mining\\Data Mining Test 0.3\\Filtered\\facebook\\2020_FB_Sustainability-Report.pdf\n",
      "C:\\Users\\jacks\\Documents\\Document(Offline)\\Barcanet\\Data Mining\\Data Mining Test 0.3\\Filtered\\facebook\\2021_BL_Sustainability_Accounts.pdf\n",
      "C:\\Users\\jacks\\Documents\\Document(Offline)\\Barcanet\\Data Mining\\Data Mining Test 0.3\\Filtered\\facebook\\Data-competition-selfie.pdf\n",
      "C:\\Users\\jacks\\Documents\\Document(Offline)\\Barcanet\\Data Mining\\Data Mining Test 0.3\\Filtered\\facebook\\eon_2019_sustainability_report.pdf\n"
     ]
    },
    {
     "name": "stderr",
     "output_type": "stream",
     "text": [
      "Got stderr: Oct 30, 2021 8:01:41 PM org.apache.pdfbox.contentstream.PDFStreamEngine operatorException\n",
      "SEVERE: Cannot read JPEG2000 image: Java Advanced Imaging (JAI) Image I/O Tools are not installed\n",
      "Oct 30, 2021 8:01:41 PM org.apache.pdfbox.contentstream.PDFStreamEngine operatorException\n",
      "SEVERE: Cannot read JPEG2000 image: Java Advanced Imaging (JAI) Image I/O Tools are not installed\n",
      "Oct 30, 2021 8:01:41 PM org.apache.pdfbox.contentstream.PDFStreamEngine operatorException\n",
      "SEVERE: Cannot read JPEG2000 image: Java Advanced Imaging (JAI) Image I/O Tools are not installed\n",
      "Oct 30, 2021 8:01:41 PM org.apache.pdfbox.contentstream.PDFStreamEngine operatorException\n",
      "SEVERE: Cannot read JPEG2000 image: Java Advanced Imaging (JAI) Image I/O Tools are not installed\n",
      "Oct 30, 2021 8:01:41 PM org.apache.pdfbox.contentstream.PDFStreamEngine operatorException\n",
      "SEVERE: Cannot read JPEG2000 image: Java Advanced Imaging (JAI) Image I/O Tools are not installed\n",
      "Oct 30, 2021 8:01:41 PM org.apache.pdfbox.contentstream.PDFStreamEngine operatorException\n",
      "SEVERE: Cannot read JPEG2000 image: Java Advanced Imaging (JAI) Image I/O Tools are not installed\n",
      "Oct 30, 2021 8:01:41 PM org.apache.pdfbox.contentstream.PDFStreamEngine operatorException\n",
      "SEVERE: Cannot read JPEG2000 image: Java Advanced Imaging (JAI) Image I/O Tools are not installed\n",
      "Oct 30, 2021 8:01:41 PM org.apache.pdfbox.contentstream.PDFStreamEngine operatorException\n",
      "SEVERE: Cannot read JPEG2000 image: Java Advanced Imaging (JAI) Image I/O Tools are not installed\n",
      "Oct 30, 2021 8:01:41 PM org.apache.pdfbox.contentstream.PDFStreamEngine operatorException\n",
      "SEVERE: Cannot read JPEG2000 image: Java Advanced Imaging (JAI) Image I/O Tools are not installed\n",
      "\n"
     ]
    },
    {
     "name": "stdout",
     "output_type": "stream",
     "text": [
      "C:\\Users\\jacks\\Documents\\Document(Offline)\\Barcanet\\Data Mining\\Data Mining Test 0.3\\Filtered\\facebook\\esg-data-2020.pdf\n",
      "C:\\Users\\jacks\\Documents\\Document(Offline)\\Barcanet\\Data Mining\\Data Mining Test 0.3\\Filtered\\facebook\\The-Planet-Mark-Code-of-Practice-V9-FINAL.pdf\n"
     ]
    },
    {
     "name": "stderr",
     "output_type": "stream",
     "text": [
      "Got stderr: Oct 30, 2021 8:01:50 PM org.apache.pdfbox.pdmodel.font.PDTrueTypeFont <init>\n",
      "WARNING: Using fallback font 'Arial-BoldMT' for 'Helvetica,Bold'\n",
      "Oct 30, 2021 8:01:50 PM org.apache.pdfbox.pdmodel.font.PDTrueTypeFont <init>\n",
      "WARNING: Using fallback font 'Arial-BoldMT' for 'Helvetica,Bold'\n",
      "\n"
     ]
    },
    {
     "name": "stdout",
     "output_type": "stream",
     "text": [
      "C:\\Users\\jacks\\Documents\\Document(Offline)\\Barcanet\\Data Mining\\Data Mining Test 0.3\\Filtered\\google\n",
      "['Apple_Environmental_Responsibility_Report_2019.pdf', 'carbon-footprinting-an-anvestor-toolkit.pdf', 'CBEY_NET-ZERO-FINAL_Jan2021.pdf', 'google_2019-environmental-report.pdf', 'google_fy2018_ghg-inventory-verification-letter.pdf', 'NewClimate_NetZeroReport_October2020.pdf', 'The-Planet-Mark-Code-of-Practice-V9-FINAL.pdf']\n",
      "C:\\Users\\jacks\\Documents\\Document(Offline)\\Barcanet\\Data Mining\\Data Mining Test 0.3\\Filtered\\google\\Apple_Environmental_Responsibility_Report_2019.pdf\n",
      "C:\\Users\\jacks\\Documents\\Document(Offline)\\Barcanet\\Data Mining\\Data Mining Test 0.3\\Filtered\\google\\carbon-footprinting-an-anvestor-toolkit.pdf\n",
      "C:\\Users\\jacks\\Documents\\Document(Offline)\\Barcanet\\Data Mining\\Data Mining Test 0.3\\Filtered\\google\\CBEY_NET-ZERO-FINAL_Jan2021.pdf\n"
     ]
    },
    {
     "name": "stderr",
     "output_type": "stream",
     "text": [
      "Got stderr: Oct 30, 2021 8:02:01 PM org.apache.pdfbox.contentstream.PDFStreamEngine operatorException\n",
      "SEVERE: Cannot read JPEG2000 image: Java Advanced Imaging (JAI) Image I/O Tools are not installed\n",
      "Oct 30, 2021 8:02:01 PM org.apache.pdfbox.contentstream.PDFStreamEngine operatorException\n",
      "SEVERE: Cannot read JPEG2000 image: Java Advanced Imaging (JAI) Image I/O Tools are not installed\n",
      "Oct 30, 2021 8:02:02 PM org.apache.pdfbox.contentstream.PDFStreamEngine operatorException\n",
      "SEVERE: Cannot read JPEG2000 image: Java Advanced Imaging (JAI) Image I/O Tools are not installed\n",
      "Oct 30, 2021 8:02:02 PM org.apache.pdfbox.contentstream.PDFStreamEngine operatorException\n",
      "SEVERE: Cannot read JPEG2000 image: Java Advanced Imaging (JAI) Image I/O Tools are not installed\n",
      "Oct 30, 2021 8:02:02 PM org.apache.pdfbox.contentstream.PDFStreamEngine operatorException\n",
      "SEVERE: Cannot read JPEG2000 image: Java Advanced Imaging (JAI) Image I/O Tools are not installed\n",
      "Oct 30, 2021 8:02:02 PM org.apache.pdfbox.contentstream.PDFStreamEngine operatorException\n",
      "SEVERE: Cannot read JPEG2000 image: Java Advanced Imaging (JAI) Image I/O Tools are not installed\n",
      "Oct 30, 2021 8:02:02 PM org.apache.pdfbox.contentstream.PDFStreamEngine operatorException\n",
      "SEVERE: Cannot read JPEG2000 image: Java Advanced Imaging (JAI) Image I/O Tools are not installed\n",
      "Oct 30, 2021 8:02:02 PM org.apache.pdfbox.contentstream.PDFStreamEngine operatorException\n",
      "SEVERE: Cannot read JPEG2000 image: Java Advanced Imaging (JAI) Image I/O Tools are not installed\n",
      "Oct 30, 2021 8:02:02 PM org.apache.pdfbox.contentstream.PDFStreamEngine operatorException\n",
      "SEVERE: Cannot read JPEG2000 image: Java Advanced Imaging (JAI) Image I/O Tools are not installed\n",
      "Oct 30, 2021 8:02:02 PM org.apache.pdfbox.contentstream.PDFStreamEngine operatorException\n",
      "SEVERE: Cannot read JPEG2000 image: Java Advanced Imaging (JAI) Image I/O Tools are not installed\n",
      "Oct 30, 2021 8:02:02 PM org.apache.pdfbox.contentstream.PDFStreamEngine operatorException\n",
      "SEVERE: Cannot read JPEG2000 image: Java Advanced Imaging (JAI) Image I/O Tools are not installed\n",
      "Oct 30, 2021 8:02:02 PM org.apache.pdfbox.contentstream.PDFStreamEngine operatorException\n",
      "SEVERE: Cannot read JPEG2000 image: Java Advanced Imaging (JAI) Image I/O Tools are not installed\n",
      "Oct 30, 2021 8:02:03 PM org.apache.pdfbox.contentstream.PDFStreamEngine operatorException\n",
      "SEVERE: Cannot read JPEG2000 image: Java Advanced Imaging (JAI) Image I/O Tools are not installed\n",
      "Oct 30, 2021 8:02:03 PM org.apache.pdfbox.contentstream.PDFStreamEngine operatorException\n",
      "SEVERE: Cannot read JPEG2000 image: Java Advanced Imaging (JAI) Image I/O Tools are not installed\n",
      "Oct 30, 2021 8:02:03 PM org.apache.pdfbox.contentstream.PDFStreamEngine operatorException\n",
      "SEVERE: Cannot read JPEG2000 image: Java Advanced Imaging (JAI) Image I/O Tools are not installed\n",
      "Oct 30, 2021 8:02:03 PM org.apache.pdfbox.contentstream.PDFStreamEngine operatorException\n",
      "SEVERE: Cannot read JPEG2000 image: Java Advanced Imaging (JAI) Image I/O Tools are not installed\n",
      "Oct 30, 2021 8:02:03 PM org.apache.pdfbox.contentstream.PDFStreamEngine operatorException\n",
      "SEVERE: Cannot read JPEG2000 image: Java Advanced Imaging (JAI) Image I/O Tools are not installed\n",
      "Oct 30, 2021 8:02:03 PM org.apache.pdfbox.contentstream.PDFStreamEngine operatorException\n",
      "SEVERE: Cannot read JPEG2000 image: Java Advanced Imaging (JAI) Image I/O Tools are not installed\n",
      "Oct 30, 2021 8:02:03 PM org.apache.pdfbox.contentstream.PDFStreamEngine operatorException\n",
      "SEVERE: Cannot read JPEG2000 image: Java Advanced Imaging (JAI) Image I/O Tools are not installed\n",
      "Oct 30, 2021 8:02:03 PM org.apache.pdfbox.contentstream.PDFStreamEngine operatorException\n",
      "SEVERE: Cannot read JPEG2000 image: Java Advanced Imaging (JAI) Image I/O Tools are not installed\n",
      "Oct 30, 2021 8:02:03 PM org.apache.pdfbox.contentstream.PDFStreamEngine operatorException\n",
      "SEVERE: Cannot read JPEG2000 image: Java Advanced Imaging (JAI) Image I/O Tools are not installed\n",
      "Oct 30, 2021 8:02:03 PM org.apache.pdfbox.contentstream.PDFStreamEngine operatorException\n",
      "SEVERE: Cannot read JPEG2000 image: Java Advanced Imaging (JAI) Image I/O Tools are not installed\n",
      "Oct 30, 2021 8:02:03 PM org.apache.pdfbox.contentstream.PDFStreamEngine operatorException\n",
      "SEVERE: Cannot read JPEG2000 image: Java Advanced Imaging (JAI) Image I/O Tools are not installed\n",
      "Oct 30, 2021 8:02:03 PM org.apache.pdfbox.contentstream.PDFStreamEngine operatorException\n",
      "SEVERE: Cannot read JPEG2000 image: Java Advanced Imaging (JAI) Image I/O Tools are not installed\n",
      "Oct 30, 2021 8:02:03 PM org.apache.pdfbox.contentstream.PDFStreamEngine operatorException\n",
      "SEVERE: Cannot read JPEG2000 image: Java Advanced Imaging (JAI) Image I/O Tools are not installed\n",
      "Oct 30, 2021 8:02:03 PM org.apache.pdfbox.contentstream.PDFStreamEngine operatorException\n",
      "SEVERE: Cannot read JPEG2000 image: Java Advanced Imaging (JAI) Image I/O Tools are not installed\n",
      "Oct 30, 2021 8:02:03 PM org.apache.pdfbox.contentstream.PDFStreamEngine operatorException\n",
      "SEVERE: Cannot read JPEG2000 image: Java Advanced Imaging (JAI) Image I/O Tools are not installed\n",
      "\n"
     ]
    },
    {
     "name": "stdout",
     "output_type": "stream",
     "text": [
      "C:\\Users\\jacks\\Documents\\Document(Offline)\\Barcanet\\Data Mining\\Data Mining Test 0.3\\Filtered\\google\\google_2019-environmental-report.pdf\n",
      "C:\\Users\\jacks\\Documents\\Document(Offline)\\Barcanet\\Data Mining\\Data Mining Test 0.3\\Filtered\\google\\google_fy2018_ghg-inventory-verification-letter.pdf\n",
      "C:\\Users\\jacks\\Documents\\Document(Offline)\\Barcanet\\Data Mining\\Data Mining Test 0.3\\Filtered\\google\\NewClimate_NetZeroReport_October2020.pdf\n",
      "C:\\Users\\jacks\\Documents\\Document(Offline)\\Barcanet\\Data Mining\\Data Mining Test 0.3\\Filtered\\google\\The-Planet-Mark-Code-of-Practice-V9-FINAL.pdf\n"
     ]
    },
    {
     "name": "stderr",
     "output_type": "stream",
     "text": [
      "Got stderr: Oct 30, 2021 8:02:15 PM org.apache.pdfbox.pdmodel.font.PDTrueTypeFont <init>\n",
      "WARNING: Using fallback font 'Arial-BoldMT' for 'Helvetica,Bold'\n",
      "Oct 30, 2021 8:02:15 PM org.apache.pdfbox.pdmodel.font.PDTrueTypeFont <init>\n",
      "WARNING: Using fallback font 'Arial-BoldMT' for 'Helvetica,Bold'\n",
      "\n"
     ]
    },
    {
     "name": "stdout",
     "output_type": "stream",
     "text": [
      "C:\\Users\\jacks\\Documents\\Document(Offline)\\Barcanet\\Data Mining\\Data Mining Test 0.3\\Filtered\\hamleys of london\n",
      "['2019-20.pdf', '30366-barratt-ar2021-single-page.pdf', 'Alfred-Health-Annual-Report-2016-2017.pdf', 'Tesco plc Annual Report 2020.pdf', 'Tradeweb-2020-SustainabilityReport.pdf']\n",
      "C:\\Users\\jacks\\Documents\\Document(Offline)\\Barcanet\\Data Mining\\Data Mining Test 0.3\\Filtered\\hamleys of london\\2019-20.pdf\n",
      "C:\\Users\\jacks\\Documents\\Document(Offline)\\Barcanet\\Data Mining\\Data Mining Test 0.3\\Filtered\\hamleys of london\\30366-barratt-ar2021-single-page.pdf\n",
      "C:\\Users\\jacks\\Documents\\Document(Offline)\\Barcanet\\Data Mining\\Data Mining Test 0.3\\Filtered\\hamleys of london\\Alfred-Health-Annual-Report-2016-2017.pdf\n",
      "C:\\Users\\jacks\\Documents\\Document(Offline)\\Barcanet\\Data Mining\\Data Mining Test 0.3\\Filtered\\hamleys of london\\Tesco plc Annual Report 2020.pdf\n",
      "C:\\Users\\jacks\\Documents\\Document(Offline)\\Barcanet\\Data Mining\\Data Mining Test 0.3\\Filtered\\hamleys of london\\Tradeweb-2020-SustainabilityReport.pdf\n",
      "C:\\Users\\jacks\\Documents\\Document(Offline)\\Barcanet\\Data Mining\\Data Mining Test 0.3\\Filtered\\ibm\n",
      "['2018_SR_Data Book_Final_0705.pdf', '2019-09-20_ESG_Pfitzner.pdf', 'appendix-corporate-ghg-inventorying-and-target-setting-self-assessment.pdf', 'Energy-and-carbon-summary.pdf', 'private-sector-and-climate-change-a-case-study-of-carbon.pdf', 'tietoevry2020_sustainability_report.pdf', 'vistajet-ghg-final-report.pdf']\n",
      "C:\\Users\\jacks\\Documents\\Document(Offline)\\Barcanet\\Data Mining\\Data Mining Test 0.3\\Filtered\\ibm\\2018_SR_Data Book_Final_0705.pdf\n",
      "C:\\Users\\jacks\\Documents\\Document(Offline)\\Barcanet\\Data Mining\\Data Mining Test 0.3\\Filtered\\ibm\\2019-09-20_ESG_Pfitzner.pdf\n",
      "C:\\Users\\jacks\\Documents\\Document(Offline)\\Barcanet\\Data Mining\\Data Mining Test 0.3\\Filtered\\ibm\\appendix-corporate-ghg-inventorying-and-target-setting-self-assessment.pdf\n",
      "C:\\Users\\jacks\\Documents\\Document(Offline)\\Barcanet\\Data Mining\\Data Mining Test 0.3\\Filtered\\ibm\\Energy-and-carbon-summary.pdf\n",
      "C:\\Users\\jacks\\Documents\\Document(Offline)\\Barcanet\\Data Mining\\Data Mining Test 0.3\\Filtered\\ibm\\private-sector-and-climate-change-a-case-study-of-carbon.pdf\n",
      "C:\\Users\\jacks\\Documents\\Document(Offline)\\Barcanet\\Data Mining\\Data Mining Test 0.3\\Filtered\\ibm\\tietoevry2020_sustainability_report.pdf\n"
     ]
    },
    {
     "name": "stderr",
     "output_type": "stream",
     "text": [
      "Got stderr: Oct 30, 2021 8:03:00 PM org.apache.pdfbox.contentstream.PDFStreamEngine operatorException\n",
      "SEVERE: Cannot read JPEG2000 image: Java Advanced Imaging (JAI) Image I/O Tools are not installed\n",
      "Oct 30, 2021 8:03:00 PM org.apache.pdfbox.contentstream.PDFStreamEngine operatorException\n",
      "SEVERE: Cannot read JPEG2000 image: Java Advanced Imaging (JAI) Image I/O Tools are not installed\n",
      "Oct 30, 2021 8:03:01 PM org.apache.pdfbox.contentstream.PDFStreamEngine operatorException\n",
      "SEVERE: Cannot read JPEG2000 image: Java Advanced Imaging (JAI) Image I/O Tools are not installed\n",
      "\n"
     ]
    },
    {
     "name": "stdout",
     "output_type": "stream",
     "text": [
      "C:\\Users\\jacks\\Documents\\Document(Offline)\\Barcanet\\Data Mining\\Data Mining Test 0.3\\Filtered\\ibm\\vistajet-ghg-final-report.pdf\n",
      "C:\\Users\\jacks\\Documents\\Document(Offline)\\Barcanet\\Data Mining\\Data Mining Test 0.3\\Filtered\\kingfisher\n",
      "['2020-our-approach-to-sustainability.pdf', '2021_BL_Sustainability_Accounts.pdf', 'Kingfisher_Performance_Data_Appendix_19-20s.pdf', 'melrose-sustainability-report-2020.pdf', 'Shell_UK_-_Annual_OSPAR_Environmental_Statement.pdf', 'Tortoise_C100_Index_April2021.pdf']\n",
      "C:\\Users\\jacks\\Documents\\Document(Offline)\\Barcanet\\Data Mining\\Data Mining Test 0.3\\Filtered\\kingfisher\\2020-our-approach-to-sustainability.pdf\n",
      "C:\\Users\\jacks\\Documents\\Document(Offline)\\Barcanet\\Data Mining\\Data Mining Test 0.3\\Filtered\\kingfisher\\2021_BL_Sustainability_Accounts.pdf\n",
      "C:\\Users\\jacks\\Documents\\Document(Offline)\\Barcanet\\Data Mining\\Data Mining Test 0.3\\Filtered\\kingfisher\\Kingfisher_Performance_Data_Appendix_19-20s.pdf\n"
     ]
    },
    {
     "name": "stderr",
     "output_type": "stream",
     "text": [
      "Got stderr: Oct 30, 2021 8:03:21 PM org.apache.pdfbox.pdmodel.graphics.color.PDICCBased ensureDisplayProfile\n",
      "WARNING: ICC profile is Perceptual, ignoring, treating as Display class\n",
      "Oct 30, 2021 8:03:22 PM org.apache.pdfbox.pdmodel.graphics.color.PDICCBased ensureDisplayProfile\n",
      "WARNING: ICC profile is Perceptual, ignoring, treating as Display class\n",
      "\n"
     ]
    },
    {
     "name": "stdout",
     "output_type": "stream",
     "text": [
      "C:\\Users\\jacks\\Documents\\Document(Offline)\\Barcanet\\Data Mining\\Data Mining Test 0.3\\Filtered\\kingfisher\\melrose-sustainability-report-2020.pdf\n"
     ]
    },
    {
     "name": "stderr",
     "output_type": "stream",
     "text": [
      "Got stderr: Oct 30, 2021 8:03:23 PM org.apache.pdfbox.pdmodel.graphics.color.PDICCBased ensureDisplayProfile\n",
      "WARNING: ICC profile is Perceptual, ignoring, treating as Display class\n",
      "Oct 30, 2021 8:03:23 PM org.apache.pdfbox.pdmodel.graphics.color.PDICCBased ensureDisplayProfile\n",
      "WARNING: ICC profile is Perceptual, ignoring, treating as Display class\n",
      "Oct 30, 2021 8:03:24 PM org.apache.pdfbox.pdmodel.graphics.color.PDICCBased ensureDisplayProfile\n",
      "WARNING: ICC profile is Perceptual, ignoring, treating as Display class\n",
      "Oct 30, 2021 8:03:25 PM org.apache.pdfbox.pdmodel.graphics.color.PDICCBased ensureDisplayProfile\n",
      "WARNING: ICC profile is Perceptual, ignoring, treating as Display class\n",
      "Oct 30, 2021 8:03:25 PM org.apache.pdfbox.pdmodel.graphics.color.PDICCBased ensureDisplayProfile\n",
      "WARNING: ICC profile is Perceptual, ignoring, treating as Display class\n",
      "Oct 30, 2021 8:03:26 PM org.apache.pdfbox.pdmodel.graphics.color.PDICCBased ensureDisplayProfile\n",
      "WARNING: ICC profile is Perceptual, ignoring, treating as Display class\n",
      "Oct 30, 2021 8:03:26 PM org.apache.pdfbox.pdmodel.graphics.color.PDICCBased ensureDisplayProfile\n",
      "WARNING: ICC profile is Perceptual, ignoring, treating as Display class\n",
      "Oct 30, 2021 8:03:26 PM org.apache.pdfbox.pdmodel.graphics.color.PDICCBased ensureDisplayProfile\n",
      "WARNING: ICC profile is Perceptual, ignoring, treating as Display class\n",
      "Oct 30, 2021 8:03:27 PM org.apache.pdfbox.pdmodel.graphics.color.PDICCBased ensureDisplayProfile\n",
      "WARNING: ICC profile is Perceptual, ignoring, treating as Display class\n",
      "Oct 30, 2021 8:03:27 PM org.apache.pdfbox.pdmodel.graphics.color.PDICCBased ensureDisplayProfile\n",
      "WARNING: ICC profile is Perceptual, ignoring, treating as Display class\n",
      "Oct 30, 2021 8:03:27 PM org.apache.pdfbox.pdmodel.graphics.color.PDICCBased ensureDisplayProfile\n",
      "WARNING: ICC profile is Perceptual, ignoring, treating as Display class\n",
      "Oct 30, 2021 8:03:27 PM org.apache.pdfbox.pdmodel.graphics.color.PDICCBased ensureDisplayProfile\n",
      "WARNING: ICC profile is Perceptual, ignoring, treating as Display class\n",
      "Oct 30, 2021 8:03:27 PM org.apache.pdfbox.pdmodel.graphics.color.PDICCBased ensureDisplayProfile\n",
      "WARNING: ICC profile is Perceptual, ignoring, treating as Display class\n",
      "Oct 30, 2021 8:03:27 PM org.apache.pdfbox.pdmodel.graphics.color.PDICCBased ensureDisplayProfile\n",
      "WARNING: ICC profile is Perceptual, ignoring, treating as Display class\n",
      "Oct 30, 2021 8:03:27 PM org.apache.pdfbox.pdmodel.graphics.color.PDICCBased ensureDisplayProfile\n",
      "WARNING: ICC profile is Perceptual, ignoring, treating as Display class\n",
      "Oct 30, 2021 8:03:28 PM org.apache.pdfbox.pdmodel.graphics.color.PDICCBased ensureDisplayProfile\n",
      "WARNING: ICC profile is Perceptual, ignoring, treating as Display class\n",
      "Oct 30, 2021 8:03:28 PM org.apache.pdfbox.pdmodel.graphics.color.PDICCBased ensureDisplayProfile\n",
      "WARNING: ICC profile is Perceptual, ignoring, treating as Display class\n",
      "Oct 30, 2021 8:03:28 PM org.apache.pdfbox.pdmodel.graphics.color.PDICCBased ensureDisplayProfile\n",
      "WARNING: ICC profile is Perceptual, ignoring, treating as Display class\n",
      "Oct 30, 2021 8:03:28 PM org.apache.pdfbox.pdmodel.graphics.color.PDICCBased ensureDisplayProfile\n",
      "WARNING: ICC profile is Perceptual, ignoring, treating as Display class\n",
      "Oct 30, 2021 8:03:28 PM org.apache.pdfbox.pdmodel.graphics.color.PDICCBased ensureDisplayProfile\n",
      "WARNING: ICC profile is Perceptual, ignoring, treating as Display class\n",
      "Oct 30, 2021 8:03:28 PM org.apache.pdfbox.pdmodel.graphics.color.PDICCBased ensureDisplayProfile\n",
      "WARNING: ICC profile is Perceptual, ignoring, treating as Display class\n",
      "Oct 30, 2021 8:03:29 PM org.apache.pdfbox.pdmodel.graphics.color.PDICCBased ensureDisplayProfile\n",
      "WARNING: ICC profile is Perceptual, ignoring, treating as Display class\n",
      "Oct 30, 2021 8:03:29 PM org.apache.pdfbox.pdmodel.graphics.color.PDICCBased ensureDisplayProfile\n",
      "WARNING: ICC profile is Perceptual, ignoring, treating as Display class\n",
      "Oct 30, 2021 8:03:29 PM org.apache.pdfbox.pdmodel.graphics.color.PDICCBased ensureDisplayProfile\n",
      "WARNING: ICC profile is Perceptual, ignoring, treating as Display class\n",
      "Oct 30, 2021 8:03:29 PM org.apache.pdfbox.pdmodel.graphics.color.PDICCBased ensureDisplayProfile\n",
      "WARNING: ICC profile is Perceptual, ignoring, treating as Display class\n",
      "Oct 30, 2021 8:03:29 PM org.apache.pdfbox.pdmodel.graphics.color.PDICCBased ensureDisplayProfile\n",
      "WARNING: ICC profile is Perceptual, ignoring, treating as Display class\n",
      "Oct 30, 2021 8:03:30 PM org.apache.pdfbox.pdmodel.graphics.color.PDICCBased ensureDisplayProfile\n",
      "WARNING: ICC profile is Perceptual, ignoring, treating as Display class\n",
      "Oct 30, 2021 8:03:30 PM org.apache.pdfbox.pdmodel.graphics.color.PDICCBased ensureDisplayProfile\n",
      "WARNING: ICC profile is Perceptual, ignoring, treating as Display class\n",
      "\n"
     ]
    },
    {
     "name": "stdout",
     "output_type": "stream",
     "text": [
      "C:\\Users\\jacks\\Documents\\Document(Offline)\\Barcanet\\Data Mining\\Data Mining Test 0.3\\Filtered\\kingfisher\\Shell_UK_-_Annual_OSPAR_Environmental_Statement.pdf\n"
     ]
    },
    {
     "name": "stderr",
     "output_type": "stream",
     "text": [
      "Got stderr: Oct 30, 2021 8:03:30 PM org.apache.pdfbox.contentstream.PDFStreamEngine operatorException\n",
      "SEVERE: Cannot read JPEG2000 image: Java Advanced Imaging (JAI) Image I/O Tools are not installed\n",
      "Oct 30, 2021 8:03:30 PM org.apache.pdfbox.contentstream.PDFStreamEngine operatorException\n",
      "SEVERE: Cannot read JPEG2000 image: Java Advanced Imaging (JAI) Image I/O Tools are not installed\n",
      "Oct 30, 2021 8:03:31 PM org.apache.pdfbox.contentstream.PDFStreamEngine operatorException\n",
      "SEVERE: Cannot read JPEG2000 image: Java Advanced Imaging (JAI) Image I/O Tools are not installed\n",
      "Oct 30, 2021 8:03:31 PM org.apache.pdfbox.contentstream.PDFStreamEngine operatorException\n",
      "SEVERE: Cannot read JPEG2000 image: Java Advanced Imaging (JAI) Image I/O Tools are not installed\n",
      "Oct 30, 2021 8:03:31 PM org.apache.pdfbox.contentstream.PDFStreamEngine operatorException\n",
      "SEVERE: Cannot read JPEG2000 image: Java Advanced Imaging (JAI) Image I/O Tools are not installed\n",
      "Oct 30, 2021 8:03:31 PM org.apache.pdfbox.contentstream.PDFStreamEngine operatorException\n",
      "SEVERE: Cannot read JPEG2000 image: Java Advanced Imaging (JAI) Image I/O Tools are not installed\n",
      "\n"
     ]
    },
    {
     "name": "stdout",
     "output_type": "stream",
     "text": [
      "C:\\Users\\jacks\\Documents\\Document(Offline)\\Barcanet\\Data Mining\\Data Mining Test 0.3\\Filtered\\kingfisher\\Tortoise_C100_Index_April2021.pdf\n",
      "C:\\Users\\jacks\\Documents\\Document(Offline)\\Barcanet\\Data Mining\\Data Mining Test 0.3\\Filtered\\lidl\n",
      "['Asset_8230097.pdf', 'bf_sustainability_2019-web.pdf', 'BITCI-Report-Progressing-Towards-Science-Based-Targets.pdf', 'IRENA_Reaching_zero_2020.pdf', 'Lidl GB_The Good Food Report_17_18.pdf', 'Lidl-Ireland-CSR.pdf', 'Low-Carbon-Pledge-Report-11.06.19.pdf', 'Meat-Us-Halfway-a-retailer-scorecard-final.pdf', 'Nonfinancial_Report_2019_e.pdf']\n",
      "C:\\Users\\jacks\\Documents\\Document(Offline)\\Barcanet\\Data Mining\\Data Mining Test 0.3\\Filtered\\lidl\\Asset_8230097.pdf\n",
      "C:\\Users\\jacks\\Documents\\Document(Offline)\\Barcanet\\Data Mining\\Data Mining Test 0.3\\Filtered\\lidl\\bf_sustainability_2019-web.pdf\n",
      "C:\\Users\\jacks\\Documents\\Document(Offline)\\Barcanet\\Data Mining\\Data Mining Test 0.3\\Filtered\\lidl\\BITCI-Report-Progressing-Towards-Science-Based-Targets.pdf\n",
      "C:\\Users\\jacks\\Documents\\Document(Offline)\\Barcanet\\Data Mining\\Data Mining Test 0.3\\Filtered\\lidl\\IRENA_Reaching_zero_2020.pdf\n",
      "C:\\Users\\jacks\\Documents\\Document(Offline)\\Barcanet\\Data Mining\\Data Mining Test 0.3\\Filtered\\lidl\\Lidl GB_The Good Food Report_17_18.pdf\n"
     ]
    },
    {
     "name": "stderr",
     "output_type": "stream",
     "text": [
      "Got stderr: Oct 30, 2021 8:08:59 PM org.apache.pdfbox.contentstream.PDFStreamEngine operatorException\n",
      "SEVERE: Cannot read JPEG2000 image: Java Advanced Imaging (JAI) Image I/O Tools are not installed\n",
      "Oct 30, 2021 8:08:59 PM org.apache.pdfbox.contentstream.PDFStreamEngine operatorException\n",
      "SEVERE: Cannot read JPEG2000 image: Java Advanced Imaging (JAI) Image I/O Tools are not installed\n",
      "Oct 30, 2021 8:08:59 PM org.apache.pdfbox.contentstream.PDFStreamEngine operatorException\n",
      "SEVERE: Cannot read JPEG2000 image: Java Advanced Imaging (JAI) Image I/O Tools are not installed\n",
      "Oct 30, 2021 8:09:00 PM org.apache.pdfbox.contentstream.PDFStreamEngine operatorException\n",
      "SEVERE: Cannot read JPEG2000 image: Java Advanced Imaging (JAI) Image I/O Tools are not installed\n",
      "Oct 30, 2021 8:09:00 PM org.apache.pdfbox.contentstream.PDFStreamEngine operatorException\n",
      "SEVERE: Cannot read JPEG2000 image: Java Advanced Imaging (JAI) Image I/O Tools are not installed\n",
      "Oct 30, 2021 8:09:01 PM org.apache.pdfbox.contentstream.PDFStreamEngine operatorException\n",
      "SEVERE: Cannot read JPEG2000 image: Java Advanced Imaging (JAI) Image I/O Tools are not installed\n",
      "Oct 30, 2021 8:09:01 PM org.apache.pdfbox.contentstream.PDFStreamEngine operatorException\n",
      "SEVERE: Cannot read JPEG2000 image: Java Advanced Imaging (JAI) Image I/O Tools are not installed\n",
      "Oct 30, 2021 8:09:01 PM org.apache.pdfbox.contentstream.PDFStreamEngine operatorException\n",
      "SEVERE: Cannot read JPEG2000 image: Java Advanced Imaging (JAI) Image I/O Tools are not installed\n",
      "Oct 30, 2021 8:09:01 PM org.apache.pdfbox.contentstream.PDFStreamEngine operatorException\n",
      "SEVERE: Cannot read JPEG2000 image: Java Advanced Imaging (JAI) Image I/O Tools are not installed\n",
      "Oct 30, 2021 8:09:01 PM org.apache.pdfbox.contentstream.PDFStreamEngine operatorException\n",
      "SEVERE: Cannot read JPEG2000 image: Java Advanced Imaging (JAI) Image I/O Tools are not installed\n",
      "Oct 30, 2021 8:09:01 PM org.apache.pdfbox.contentstream.PDFStreamEngine operatorException\n",
      "SEVERE: Cannot read JPEG2000 image: Java Advanced Imaging (JAI) Image I/O Tools are not installed\n",
      "Oct 30, 2021 8:09:01 PM org.apache.pdfbox.contentstream.PDFStreamEngine operatorException\n",
      "SEVERE: Cannot read JPEG2000 image: Java Advanced Imaging (JAI) Image I/O Tools are not installed\n",
      "Oct 30, 2021 8:09:01 PM org.apache.pdfbox.contentstream.PDFStreamEngine operatorException\n",
      "SEVERE: Cannot read JPEG2000 image: Java Advanced Imaging (JAI) Image I/O Tools are not installed\n",
      "Oct 30, 2021 8:09:01 PM org.apache.pdfbox.contentstream.PDFStreamEngine operatorException\n",
      "SEVERE: Cannot read JPEG2000 image: Java Advanced Imaging (JAI) Image I/O Tools are not installed\n",
      "\n"
     ]
    },
    {
     "name": "stdout",
     "output_type": "stream",
     "text": [
      "C:\\Users\\jacks\\Documents\\Document(Offline)\\Barcanet\\Data Mining\\Data Mining Test 0.3\\Filtered\\lidl\\Lidl-Ireland-CSR.pdf\n",
      "C:\\Users\\jacks\\Documents\\Document(Offline)\\Barcanet\\Data Mining\\Data Mining Test 0.3\\Filtered\\lidl\\Low-Carbon-Pledge-Report-11.06.19.pdf\n",
      "C:\\Users\\jacks\\Documents\\Document(Offline)\\Barcanet\\Data Mining\\Data Mining Test 0.3\\Filtered\\lidl\\Meat-Us-Halfway-a-retailer-scorecard-final.pdf\n",
      "C:\\Users\\jacks\\Documents\\Document(Offline)\\Barcanet\\Data Mining\\Data Mining Test 0.3\\Filtered\\lidl\\Nonfinancial_Report_2019_e.pdf\n",
      "C:\\Users\\jacks\\Documents\\Document(Offline)\\Barcanet\\Data Mining\\Data Mining Test 0.3\\Filtered\\marks and spencer p.l.c\n",
      "['m-and-s_ar2019_full_online_190528.pdf', 'm-and-s_ar20_full_200528.pdf', 'm-and-s_ar21_full_210602.pdf', 'plan-a-report-2021.pdf', 'sustainability-insights-2019.pdf']\n",
      "C:\\Users\\jacks\\Documents\\Document(Offline)\\Barcanet\\Data Mining\\Data Mining Test 0.3\\Filtered\\marks and spencer p.l.c\\m-and-s_ar2019_full_online_190528.pdf\n",
      "C:\\Users\\jacks\\Documents\\Document(Offline)\\Barcanet\\Data Mining\\Data Mining Test 0.3\\Filtered\\marks and spencer p.l.c\\m-and-s_ar20_full_200528.pdf\n",
      "C:\\Users\\jacks\\Documents\\Document(Offline)\\Barcanet\\Data Mining\\Data Mining Test 0.3\\Filtered\\marks and spencer p.l.c\\m-and-s_ar21_full_210602.pdf\n",
      "C:\\Users\\jacks\\Documents\\Document(Offline)\\Barcanet\\Data Mining\\Data Mining Test 0.3\\Filtered\\marks and spencer p.l.c\\plan-a-report-2021.pdf\n"
     ]
    },
    {
     "name": "stderr",
     "output_type": "stream",
     "text": [
      "Got stderr: Oct 30, 2021 8:09:37 PM org.apache.pdfbox.contentstream.PDFStreamEngine operatorException\n",
      "SEVERE: Cannot read JPEG2000 image: Java Advanced Imaging (JAI) Image I/O Tools are not installed\n",
      "Oct 30, 2021 8:09:37 PM org.apache.pdfbox.contentstream.PDFStreamEngine operatorException\n",
      "SEVERE: Cannot read JPEG2000 image: Java Advanced Imaging (JAI) Image I/O Tools are not installed\n",
      "Oct 30, 2021 8:09:38 PM org.apache.pdfbox.contentstream.PDFStreamEngine operatorException\n",
      "SEVERE: Cannot read JPEG2000 image: Java Advanced Imaging (JAI) Image I/O Tools are not installed\n",
      "Oct 30, 2021 8:09:38 PM org.apache.pdfbox.contentstream.PDFStreamEngine operatorException\n",
      "SEVERE: Cannot read JPEG2000 image: Java Advanced Imaging (JAI) Image I/O Tools are not installed\n",
      "Oct 30, 2021 8:09:38 PM org.apache.pdfbox.contentstream.PDFStreamEngine operatorException\n",
      "SEVERE: Cannot read JPEG2000 image: Java Advanced Imaging (JAI) Image I/O Tools are not installed\n",
      "Oct 30, 2021 8:09:38 PM org.apache.pdfbox.contentstream.PDFStreamEngine operatorException\n",
      "SEVERE: Cannot read JPEG2000 image: Java Advanced Imaging (JAI) Image I/O Tools are not installed\n",
      "Oct 30, 2021 8:09:38 PM org.apache.pdfbox.contentstream.PDFStreamEngine operatorException\n",
      "SEVERE: Cannot read JPEG2000 image: Java Advanced Imaging (JAI) Image I/O Tools are not installed\n",
      "\n"
     ]
    },
    {
     "name": "stdout",
     "output_type": "stream",
     "text": [
      "C:\\Users\\jacks\\Documents\\Document(Offline)\\Barcanet\\Data Mining\\Data Mining Test 0.3\\Filtered\\marks and spencer p.l.c\\sustainability-insights-2019.pdf\n",
      "C:\\Users\\jacks\\Documents\\Document(Offline)\\Barcanet\\Data Mining\\Data Mining Test 0.3\\Filtered\\ocado\n",
      "['CRNW 35913 AR2021_web.pdf', 'digital-technology-and-the-planet-report.pdf', 'Kroger-2020-ESG-Report.pdf', 'ocado-ar-2018-final.pdf', 'plan-a-report-2021.pdf', 'Tortoise_C100_Index_April2021.pdf', 'ZEMO_Renewable_Fuels_Guide+_2021.pdf']\n",
      "C:\\Users\\jacks\\Documents\\Document(Offline)\\Barcanet\\Data Mining\\Data Mining Test 0.3\\Filtered\\ocado\\CRNW 35913 AR2021_web.pdf\n",
      "C:\\Users\\jacks\\Documents\\Document(Offline)\\Barcanet\\Data Mining\\Data Mining Test 0.3\\Filtered\\ocado\\digital-technology-and-the-planet-report.pdf\n",
      "C:\\Users\\jacks\\Documents\\Document(Offline)\\Barcanet\\Data Mining\\Data Mining Test 0.3\\Filtered\\ocado\\Kroger-2020-ESG-Report.pdf\n",
      "C:\\Users\\jacks\\Documents\\Document(Offline)\\Barcanet\\Data Mining\\Data Mining Test 0.3\\Filtered\\ocado\\ocado-ar-2018-final.pdf\n",
      "C:\\Users\\jacks\\Documents\\Document(Offline)\\Barcanet\\Data Mining\\Data Mining Test 0.3\\Filtered\\ocado\\plan-a-report-2021.pdf\n"
     ]
    },
    {
     "name": "stderr",
     "output_type": "stream",
     "text": [
      "Got stderr: Oct 30, 2021 8:10:05 PM org.apache.pdfbox.contentstream.PDFStreamEngine operatorException\n",
      "SEVERE: Cannot read JPEG2000 image: Java Advanced Imaging (JAI) Image I/O Tools are not installed\n",
      "Oct 30, 2021 8:10:05 PM org.apache.pdfbox.contentstream.PDFStreamEngine operatorException\n",
      "SEVERE: Cannot read JPEG2000 image: Java Advanced Imaging (JAI) Image I/O Tools are not installed\n",
      "Oct 30, 2021 8:10:05 PM org.apache.pdfbox.contentstream.PDFStreamEngine operatorException\n",
      "SEVERE: Cannot read JPEG2000 image: Java Advanced Imaging (JAI) Image I/O Tools are not installed\n",
      "Oct 30, 2021 8:10:05 PM org.apache.pdfbox.contentstream.PDFStreamEngine operatorException\n",
      "SEVERE: Cannot read JPEG2000 image: Java Advanced Imaging (JAI) Image I/O Tools are not installed\n",
      "Oct 30, 2021 8:10:05 PM org.apache.pdfbox.contentstream.PDFStreamEngine operatorException\n",
      "SEVERE: Cannot read JPEG2000 image: Java Advanced Imaging (JAI) Image I/O Tools are not installed\n",
      "Oct 30, 2021 8:10:05 PM org.apache.pdfbox.contentstream.PDFStreamEngine operatorException\n",
      "SEVERE: Cannot read JPEG2000 image: Java Advanced Imaging (JAI) Image I/O Tools are not installed\n",
      "Oct 30, 2021 8:10:05 PM org.apache.pdfbox.contentstream.PDFStreamEngine operatorException\n",
      "SEVERE: Cannot read JPEG2000 image: Java Advanced Imaging (JAI) Image I/O Tools are not installed\n",
      "\n"
     ]
    },
    {
     "name": "stdout",
     "output_type": "stream",
     "text": [
      "C:\\Users\\jacks\\Documents\\Document(Offline)\\Barcanet\\Data Mining\\Data Mining Test 0.3\\Filtered\\ocado\\Tortoise_C100_Index_April2021.pdf\n",
      "C:\\Users\\jacks\\Documents\\Document(Offline)\\Barcanet\\Data Mining\\Data Mining Test 0.3\\Filtered\\ocado\\ZEMO_Renewable_Fuels_Guide+_2021.pdf\n",
      "C:\\Users\\jacks\\Documents\\Document(Offline)\\Barcanet\\Data Mining\\Data Mining Test 0.3\\Filtered\\rolls-royce\n",
      "['CDP_Questionaire_2019_EN.pdf', 'ERT-Climate-Action-Case-Studies_December-2020-4.pdf', 'EY2017-Report-Final.pdf', 'item08c-01_a.pdf', 'P291020-1.pdf', 'SGR-DUK_UK_Military_Env_Impacts.pdf', 'Tortoise_C100_Index_April2021.pdf']\n",
      "C:\\Users\\jacks\\Documents\\Document(Offline)\\Barcanet\\Data Mining\\Data Mining Test 0.3\\Filtered\\rolls-royce\\CDP_Questionaire_2019_EN.pdf\n",
      "C:\\Users\\jacks\\Documents\\Document(Offline)\\Barcanet\\Data Mining\\Data Mining Test 0.3\\Filtered\\rolls-royce\\ERT-Climate-Action-Case-Studies_December-2020-4.pdf\n",
      "C:\\Users\\jacks\\Documents\\Document(Offline)\\Barcanet\\Data Mining\\Data Mining Test 0.3\\Filtered\\rolls-royce\\EY2017-Report-Final.pdf\n"
     ]
    },
    {
     "name": "stderr",
     "output_type": "stream",
     "text": [
      "Got stderr: Oct 30, 2021 8:10:36 PM org.apache.pdfbox.pdmodel.font.PDType0Font toUnicode\n",
      "WARNING: No Unicode mapping for CID+3404 (3404) in font DBDGAE+Cambria\n",
      "Oct 30, 2021 8:10:36 PM org.apache.pdfbox.pdmodel.font.PDType0Font toUnicode\n",
      "WARNING: No Unicode mapping for CID+3400 (3400) in font DBDGAE+Cambria\n",
      "Oct 30, 2021 8:10:36 PM org.apache.pdfbox.pdmodel.font.PDType0Font toUnicode\n",
      "WARNING: No Unicode mapping for CID+3036 (3036) in font DBDGAE+Cambria\n",
      "Oct 30, 2021 8:10:37 PM org.apache.pdfbox.pdmodel.font.PDType0Font toUnicode\n",
      "WARNING: No Unicode mapping for CID+3435 (3435) in font DBDGAE+Cambria\n",
      "Oct 30, 2021 8:10:37 PM org.apache.pdfbox.pdmodel.font.PDType0Font toUnicode\n",
      "WARNING: No Unicode mapping for CID+3037 (3037) in font DBDGAE+Cambria\n",
      "Oct 30, 2021 8:10:37 PM org.apache.pdfbox.pdmodel.font.PDType0Font toUnicode\n",
      "WARNING: No Unicode mapping for CID+3427 (3427) in font DBDGAE+Cambria\n",
      "Oct 30, 2021 8:10:37 PM org.apache.pdfbox.pdmodel.font.PDType0Font toUnicode\n",
      "WARNING: No Unicode mapping for CID+3398 (3398) in font DBDGAE+Cambria\n",
      "Oct 30, 2021 8:10:37 PM org.apache.pdfbox.pdmodel.font.PDType0Font toUnicode\n",
      "WARNING: No Unicode mapping for CID+3431 (3431) in font DBDGAE+Cambria\n",
      "Oct 30, 2021 8:10:37 PM org.apache.pdfbox.pdmodel.font.PDType0Font toUnicode\n",
      "WARNING: No Unicode mapping for CID+3439 (3439) in font DBDGAE+Cambria\n",
      "\n"
     ]
    },
    {
     "name": "stdout",
     "output_type": "stream",
     "text": [
      "C:\\Users\\jacks\\Documents\\Document(Offline)\\Barcanet\\Data Mining\\Data Mining Test 0.3\\Filtered\\rolls-royce\\item08c-01_a.pdf\n",
      "C:\\Users\\jacks\\Documents\\Document(Offline)\\Barcanet\\Data Mining\\Data Mining Test 0.3\\Filtered\\rolls-royce\\P291020-1.pdf\n"
     ]
    },
    {
     "name": "stderr",
     "output_type": "stream",
     "text": [
      "Got stderr: Oct 30, 2021 8:10:48 PM org.apache.pdfbox.contentstream.PDFStreamEngine operatorException\n",
      "SEVERE: Cannot read JPEG2000 image: Java Advanced Imaging (JAI) Image I/O Tools are not installed\n",
      "Oct 30, 2021 8:10:48 PM org.apache.pdfbox.contentstream.PDFStreamEngine operatorException\n",
      "SEVERE: Cannot read JPEG2000 image: Java Advanced Imaging (JAI) Image I/O Tools are not installed\n",
      "Oct 30, 2021 8:10:48 PM org.apache.pdfbox.contentstream.PDFStreamEngine operatorException\n",
      "SEVERE: Cannot read JPEG2000 image: Java Advanced Imaging (JAI) Image I/O Tools are not installed\n",
      "Oct 30, 2021 8:10:48 PM org.apache.pdfbox.contentstream.PDFStreamEngine operatorException\n",
      "SEVERE: Cannot read JPEG2000 image: Java Advanced Imaging (JAI) Image I/O Tools are not installed\n",
      "Oct 30, 2021 8:10:48 PM org.apache.pdfbox.contentstream.PDFStreamEngine operatorException\n",
      "SEVERE: Cannot read JPEG2000 image: Java Advanced Imaging (JAI) Image I/O Tools are not installed\n",
      "Oct 30, 2021 8:10:48 PM org.apache.pdfbox.contentstream.PDFStreamEngine operatorException\n",
      "SEVERE: Cannot read JPEG2000 image: Java Advanced Imaging (JAI) Image I/O Tools are not installed\n",
      "Oct 30, 2021 8:10:49 PM org.apache.pdfbox.contentstream.PDFStreamEngine operatorException\n",
      "SEVERE: Cannot read JPEG2000 image: Java Advanced Imaging (JAI) Image I/O Tools are not installed\n",
      "Oct 30, 2021 8:10:49 PM org.apache.pdfbox.contentstream.PDFStreamEngine operatorException\n",
      "SEVERE: Cannot read JPEG2000 image: Java Advanced Imaging (JAI) Image I/O Tools are not installed\n",
      "Oct 30, 2021 8:10:49 PM org.apache.pdfbox.contentstream.PDFStreamEngine operatorException\n",
      "SEVERE: Cannot read JPEG2000 image: Java Advanced Imaging (JAI) Image I/O Tools are not installed\n",
      "Oct 30, 2021 8:10:49 PM org.apache.pdfbox.contentstream.PDFStreamEngine operatorException\n",
      "SEVERE: Cannot read JPEG2000 image: Java Advanced Imaging (JAI) Image I/O Tools are not installed\n",
      "Oct 30, 2021 8:10:49 PM org.apache.pdfbox.contentstream.PDFStreamEngine operatorException\n",
      "SEVERE: Cannot read JPEG2000 image: Java Advanced Imaging (JAI) Image I/O Tools are not installed\n",
      "Oct 30, 2021 8:10:49 PM org.apache.pdfbox.contentstream.PDFStreamEngine operatorException\n",
      "SEVERE: Cannot read JPEG2000 image: Java Advanced Imaging (JAI) Image I/O Tools are not installed\n",
      "Oct 30, 2021 8:10:49 PM org.apache.pdfbox.contentstream.PDFStreamEngine operatorException\n",
      "SEVERE: Cannot read JPEG2000 image: Java Advanced Imaging (JAI) Image I/O Tools are not installed\n",
      "Oct 30, 2021 8:10:49 PM org.apache.pdfbox.contentstream.PDFStreamEngine operatorException\n",
      "SEVERE: Cannot read JPEG2000 image: Java Advanced Imaging (JAI) Image I/O Tools are not installed\n",
      "Oct 30, 2021 8:10:49 PM org.apache.pdfbox.contentstream.PDFStreamEngine operatorException\n",
      "SEVERE: Cannot read JPEG2000 image: Java Advanced Imaging (JAI) Image I/O Tools are not installed\n",
      "Oct 30, 2021 8:10:50 PM org.apache.pdfbox.contentstream.PDFStreamEngine operatorException\n",
      "SEVERE: Cannot read JPEG2000 image: Java Advanced Imaging (JAI) Image I/O Tools are not installed\n",
      "Oct 30, 2021 8:10:50 PM org.apache.pdfbox.contentstream.PDFStreamEngine operatorException\n",
      "SEVERE: Cannot read JPEG2000 image: Java Advanced Imaging (JAI) Image I/O Tools are not installed\n",
      "Oct 30, 2021 8:10:51 PM org.apache.pdfbox.contentstream.PDFStreamEngine operatorException\n",
      "SEVERE: Cannot read JPEG2000 image: Java Advanced Imaging (JAI) Image I/O Tools are not installed\n",
      "\n"
     ]
    },
    {
     "name": "stdout",
     "output_type": "stream",
     "text": [
      "C:\\Users\\jacks\\Documents\\Document(Offline)\\Barcanet\\Data Mining\\Data Mining Test 0.3\\Filtered\\rolls-royce\\SGR-DUK_UK_Military_Env_Impacts.pdf\n",
      "C:\\Users\\jacks\\Documents\\Document(Offline)\\Barcanet\\Data Mining\\Data Mining Test 0.3\\Filtered\\rolls-royce\\Tortoise_C100_Index_April2021.pdf\n",
      "C:\\Users\\jacks\\Documents\\Document(Offline)\\Barcanet\\Data Mining\\Data Mining Test 0.3\\Filtered\\royal mail\n",
      "['ds-smith-2020-sustainability-report-double-page.pdf', 'H2_AN202007171392314599_1.pdf', 'LSE_RMG_2018.pdf', 'The_CarbonNeutral_Protocol_Jan_2020.pdf']\n",
      "C:\\Users\\jacks\\Documents\\Document(Offline)\\Barcanet\\Data Mining\\Data Mining Test 0.3\\Filtered\\royal mail\\ds-smith-2020-sustainability-report-double-page.pdf\n",
      "C:\\Users\\jacks\\Documents\\Document(Offline)\\Barcanet\\Data Mining\\Data Mining Test 0.3\\Filtered\\royal mail\\H2_AN202007171392314599_1.pdf\n"
     ]
    },
    {
     "name": "stderr",
     "output_type": "stream",
     "text": [
      "Got stderr: Oct 30, 2021 8:11:06 PM org.apache.pdfbox.pdmodel.graphics.color.PDICCBased ensureDisplayProfile\n",
      "WARNING: ICC profile is Perceptual, ignoring, treating as Display class\n",
      "Oct 30, 2021 8:11:06 PM org.apache.pdfbox.pdmodel.graphics.color.PDICCBased ensureDisplayProfile\n",
      "WARNING: ICC profile is Perceptual, ignoring, treating as Display class\n",
      "Oct 30, 2021 8:11:06 PM org.apache.pdfbox.pdmodel.graphics.color.PDICCBased ensureDisplayProfile\n",
      "WARNING: ICC profile is Perceptual, ignoring, treating as Display class\n",
      "Oct 30, 2021 8:11:06 PM org.apache.pdfbox.pdmodel.graphics.color.PDICCBased ensureDisplayProfile\n",
      "WARNING: ICC profile is Perceptual, ignoring, treating as Display class\n",
      "Oct 30, 2021 8:11:06 PM org.apache.pdfbox.pdmodel.graphics.color.PDICCBased ensureDisplayProfile\n",
      "WARNING: ICC profile is Perceptual, ignoring, treating as Display class\n",
      "Oct 30, 2021 8:11:07 PM org.apache.pdfbox.pdmodel.graphics.color.PDICCBased ensureDisplayProfile\n",
      "WARNING: ICC profile is Perceptual, ignoring, treating as Display class\n",
      "Oct 30, 2021 8:11:07 PM org.apache.pdfbox.pdmodel.graphics.color.PDICCBased ensureDisplayProfile\n",
      "WARNING: ICC profile is Perceptual, ignoring, treating as Display class\n",
      "Oct 30, 2021 8:11:07 PM org.apache.pdfbox.pdmodel.graphics.color.PDICCBased ensureDisplayProfile\n",
      "WARNING: ICC profile is Perceptual, ignoring, treating as Display class\n",
      "\n"
     ]
    },
    {
     "name": "stdout",
     "output_type": "stream",
     "text": [
      "C:\\Users\\jacks\\Documents\\Document(Offline)\\Barcanet\\Data Mining\\Data Mining Test 0.3\\Filtered\\royal mail\\LSE_RMG_2018.pdf\n",
      "C:\\Users\\jacks\\Documents\\Document(Offline)\\Barcanet\\Data Mining\\Data Mining Test 0.3\\Filtered\\royal mail\\The_CarbonNeutral_Protocol_Jan_2020.pdf\n",
      "C:\\Users\\jacks\\Documents\\Document(Offline)\\Barcanet\\Data Mining\\Data Mining Test 0.3\\Filtered\\santander\n",
      "['2020_global_sustainability_report_0.pdf', 'BSG-WP-2021-042_0.pdf', 'delivering-a-net-zero-national-health-service.pdf', 'ias-2019-climate-finance-2019-20-en.pdf', 'ias-2020-climate-finance-2020-21-en.pdf', 'path-to-zero-report-2019-20.pdf', 'santander_uk_esg_supplement_2020_0.pdf', 'uk_financed_emissions_v11.pdf']\n",
      "C:\\Users\\jacks\\Documents\\Document(Offline)\\Barcanet\\Data Mining\\Data Mining Test 0.3\\Filtered\\santander\\2020_global_sustainability_report_0.pdf\n",
      "C:\\Users\\jacks\\Documents\\Document(Offline)\\Barcanet\\Data Mining\\Data Mining Test 0.3\\Filtered\\santander\\BSG-WP-2021-042_0.pdf\n",
      "C:\\Users\\jacks\\Documents\\Document(Offline)\\Barcanet\\Data Mining\\Data Mining Test 0.3\\Filtered\\santander\\delivering-a-net-zero-national-health-service.pdf\n",
      "C:\\Users\\jacks\\Documents\\Document(Offline)\\Barcanet\\Data Mining\\Data Mining Test 0.3\\Filtered\\santander\\ias-2019-climate-finance-2019-20-en.pdf\n",
      "C:\\Users\\jacks\\Documents\\Document(Offline)\\Barcanet\\Data Mining\\Data Mining Test 0.3\\Filtered\\santander\\ias-2020-climate-finance-2020-21-en.pdf\n",
      "C:\\Users\\jacks\\Documents\\Document(Offline)\\Barcanet\\Data Mining\\Data Mining Test 0.3\\Filtered\\santander\\path-to-zero-report-2019-20.pdf\n",
      "C:\\Users\\jacks\\Documents\\Document(Offline)\\Barcanet\\Data Mining\\Data Mining Test 0.3\\Filtered\\santander\\santander_uk_esg_supplement_2020_0.pdf\n",
      "C:\\Users\\jacks\\Documents\\Document(Offline)\\Barcanet\\Data Mining\\Data Mining Test 0.3\\Filtered\\santander\\uk_financed_emissions_v11.pdf\n",
      "C:\\Users\\jacks\\Documents\\Document(Offline)\\Barcanet\\Data Mining\\Data Mining Test 0.3\\Filtered\\sky\n",
      "['Apple_Environmental_Progress_Report_2021.pdf', 'climate-change-resilience-report.pdf', 'Sky-Carbon-Neutral-Policy-2021.pdf', 'Sky_Impact_Report_2020_Seeing_the_Bigger_Picture.pdf', 'totals_response_to_cdp_climate_change_2020_-_07-08-2020.pdf']\n",
      "C:\\Users\\jacks\\Documents\\Document(Offline)\\Barcanet\\Data Mining\\Data Mining Test 0.3\\Filtered\\sky\\Apple_Environmental_Progress_Report_2021.pdf\n",
      "C:\\Users\\jacks\\Documents\\Document(Offline)\\Barcanet\\Data Mining\\Data Mining Test 0.3\\Filtered\\sky\\climate-change-resilience-report.pdf\n"
     ]
    },
    {
     "name": "stderr",
     "output_type": "stream",
     "text": [
      "Got stderr: Oct 30, 2021 8:11:43 PM org.apache.pdfbox.pdmodel.font.PDSimpleFont toUnicode\n",
      "WARNING: No Unicode mapping for f_f (136) in font KAGBHX+GothamNarrow-Bold\n",
      "Oct 30, 2021 8:11:43 PM org.apache.pdfbox.pdmodel.font.PDSimpleFont toUnicode\n",
      "WARNING: No Unicode mapping for f_f (3) in font KAGBHX+GothamNarrow-Bold\n",
      "\n"
     ]
    },
    {
     "name": "stdout",
     "output_type": "stream",
     "text": [
      "C:\\Users\\jacks\\Documents\\Document(Offline)\\Barcanet\\Data Mining\\Data Mining Test 0.3\\Filtered\\sky\\Sky-Carbon-Neutral-Policy-2021.pdf\n"
     ]
    },
    {
     "name": "stderr",
     "output_type": "stream",
     "text": [
      "Got stderr: Oct 30, 2021 8:11:49 PM org.apache.pdfbox.pdmodel.graphics.color.PDICCBased ensureDisplayProfile\n",
      "WARNING: ICC profile is Perceptual, ignoring, treating as Display class\n",
      "Oct 30, 2021 8:11:49 PM org.apache.pdfbox.pdmodel.graphics.color.PDICCBased ensureDisplayProfile\n",
      "WARNING: ICC profile is Perceptual, ignoring, treating as Display class\n",
      "\n"
     ]
    },
    {
     "name": "stdout",
     "output_type": "stream",
     "text": [
      "C:\\Users\\jacks\\Documents\\Document(Offline)\\Barcanet\\Data Mining\\Data Mining Test 0.3\\Filtered\\sky\\Sky_Impact_Report_2020_Seeing_the_Bigger_Picture.pdf\n",
      "C:\\Users\\jacks\\Documents\\Document(Offline)\\Barcanet\\Data Mining\\Data Mining Test 0.3\\Filtered\\sky\\totals_response_to_cdp_climate_change_2020_-_07-08-2020.pdf\n",
      "C:\\Users\\jacks\\Documents\\Document(Offline)\\Barcanet\\Data Mining\\Data Mining Test 0.3\\Filtered\\tesco\n",
      "['2019-cdp-climate-change-response.pdf', '2020-tbbr-epra-report-final.pdf', 'BITCI-Report-Progressing-Towards-Science-Based-Targets.pdf', 'ias-2020-climate-finance-2020-21-en.pdf', 'Our_Sustainability_Report_2019__PDF__78_pages__6.4MB_.pdf', 'ResourceCenter-SuatainLinkedBond-04.pdf']\n",
      "C:\\Users\\jacks\\Documents\\Document(Offline)\\Barcanet\\Data Mining\\Data Mining Test 0.3\\Filtered\\tesco\\2019-cdp-climate-change-response.pdf\n",
      "C:\\Users\\jacks\\Documents\\Document(Offline)\\Barcanet\\Data Mining\\Data Mining Test 0.3\\Filtered\\tesco\\2020-tbbr-epra-report-final.pdf\n",
      "C:\\Users\\jacks\\Documents\\Document(Offline)\\Barcanet\\Data Mining\\Data Mining Test 0.3\\Filtered\\tesco\\BITCI-Report-Progressing-Towards-Science-Based-Targets.pdf\n",
      "C:\\Users\\jacks\\Documents\\Document(Offline)\\Barcanet\\Data Mining\\Data Mining Test 0.3\\Filtered\\tesco\\ias-2020-climate-finance-2020-21-en.pdf\n",
      "C:\\Users\\jacks\\Documents\\Document(Offline)\\Barcanet\\Data Mining\\Data Mining Test 0.3\\Filtered\\tesco\\Our_Sustainability_Report_2019__PDF__78_pages__6.4MB_.pdf\n",
      "C:\\Users\\jacks\\Documents\\Document(Offline)\\Barcanet\\Data Mining\\Data Mining Test 0.3\\Filtered\\tesco\\ResourceCenter-SuatainLinkedBond-04.pdf\n",
      "C:\\Users\\jacks\\Documents\\Document(Offline)\\Barcanet\\Data Mining\\Data Mining Test 0.3\\Filtered\\unilever\n",
      "['building-blocks-net-zero-companies-transformation.pdf', 'Climate-Change-v9.pdf', 'Evenlode-Portfolio-Carbon-Emissions-Report-2021_with-Exec-Summary.pdf', 'unilever-cdp-climate-2020_tcm244-558529_en.pdf', 'unilever-climate-transition-action-plan-19032021_tcm244-560179_en.pdf']\n",
      "C:\\Users\\jacks\\Documents\\Document(Offline)\\Barcanet\\Data Mining\\Data Mining Test 0.3\\Filtered\\unilever\\building-blocks-net-zero-companies-transformation.pdf\n",
      "C:\\Users\\jacks\\Documents\\Document(Offline)\\Barcanet\\Data Mining\\Data Mining Test 0.3\\Filtered\\unilever\\Climate-Change-v9.pdf\n"
     ]
    },
    {
     "name": "stderr",
     "output_type": "stream",
     "text": [
      "Got stderr: Oct 30, 2021 8:16:51 PM org.apache.pdfbox.pdmodel.font.PDSimpleFont toUnicode\n",
      "WARNING: No Unicode mapping for t_h (15) in font DTJGBV+ABFBlogScriptLight-Light\n",
      "Oct 30, 2021 8:16:51 PM org.apache.pdfbox.pdmodel.font.PDSimpleFont toUnicode\n",
      "WARNING: No Unicode mapping for o_n (10) in font DTJGBV+ABFBlogScriptLight-Light\n",
      "\n"
     ]
    },
    {
     "name": "stdout",
     "output_type": "stream",
     "text": [
      "C:\\Users\\jacks\\Documents\\Document(Offline)\\Barcanet\\Data Mining\\Data Mining Test 0.3\\Filtered\\unilever\\Evenlode-Portfolio-Carbon-Emissions-Report-2021_with-Exec-Summary.pdf\n",
      "C:\\Users\\jacks\\Documents\\Document(Offline)\\Barcanet\\Data Mining\\Data Mining Test 0.3\\Filtered\\unilever\\unilever-cdp-climate-2020_tcm244-558529_en.pdf\n",
      "C:\\Users\\jacks\\Documents\\Document(Offline)\\Barcanet\\Data Mining\\Data Mining Test 0.3\\Filtered\\unilever\\unilever-climate-transition-action-plan-19032021_tcm244-560179_en.pdf\n",
      "C:\\Users\\jacks\\Documents\\Document(Offline)\\Barcanet\\Data Mining\\Data Mining Test 0.3\\Filtered\\vodafone\n",
      "['2019-SDG-Climate-Action-Report.pdf', '2020_bt_3to1_methodology.pdf', 'cdp-report-2020.pdf', 'Connecting-Net-Zero-090921-Pages-1.pdf', 'CT_Homeworking-report-June-2021.pdf', 'data-supplement-2019.pdf', 'ERT-Climate-Action-Case-Studies_December-2020-4.pdf', 'Mobile-Net-Zero-State-of-the-Industry-on-Climate-Action.pdf', 'TCLPGlossaryEditionTwoSept2020.pdf', 'Vodafone SPO.pdf']\n",
      "C:\\Users\\jacks\\Documents\\Document(Offline)\\Barcanet\\Data Mining\\Data Mining Test 0.3\\Filtered\\vodafone\\2019-SDG-Climate-Action-Report.pdf\n"
     ]
    },
    {
     "name": "stderr",
     "output_type": "stream",
     "text": [
      "Got stderr: Oct 30, 2021 8:17:21 PM org.apache.pdfbox.pdmodel.font.PDSimpleFont toUnicode\n",
      "WARNING: No Unicode mapping for f_f_i (13) in font AEMKVB+GothamNarrow-Bold\n",
      "Oct 30, 2021 8:17:21 PM org.apache.pdfbox.pdmodel.font.PDSimpleFont toUnicode\n",
      "WARNING: No Unicode mapping for f_f (2) in font AEMKVB+Gotham-Book\n",
      "Oct 30, 2021 8:17:21 PM org.apache.pdfbox.pdmodel.font.PDSimpleFont toUnicode\n",
      "WARNING: No Unicode mapping for f_f_i (141) in font AEMKVB+Gotham-Book\n",
      "\n"
     ]
    },
    {
     "name": "stdout",
     "output_type": "stream",
     "text": [
      "C:\\Users\\jacks\\Documents\\Document(Offline)\\Barcanet\\Data Mining\\Data Mining Test 0.3\\Filtered\\vodafone\\2020_bt_3to1_methodology.pdf\n"
     ]
    },
    {
     "name": "stderr",
     "output_type": "stream",
     "text": [
      "Got stderr: Oct 30, 2021 8:17:27 PM org.apache.fontbox.ttf.CmapSubtable processSubtype14\n",
      "WARNING: Format 14 cmap table is not supported and will be ignored\n",
      "Oct 30, 2021 8:17:28 PM org.apache.fontbox.ttf.CmapSubtable processSubtype14\n",
      "WARNING: Format 14 cmap table is not supported and will be ignored\n",
      "\n"
     ]
    },
    {
     "name": "stdout",
     "output_type": "stream",
     "text": [
      "C:\\Users\\jacks\\Documents\\Document(Offline)\\Barcanet\\Data Mining\\Data Mining Test 0.3\\Filtered\\vodafone\\cdp-report-2020.pdf\n",
      "C:\\Users\\jacks\\Documents\\Document(Offline)\\Barcanet\\Data Mining\\Data Mining Test 0.3\\Filtered\\vodafone\\Connecting-Net-Zero-090921-Pages-1.pdf\n",
      "C:\\Users\\jacks\\Documents\\Document(Offline)\\Barcanet\\Data Mining\\Data Mining Test 0.3\\Filtered\\vodafone\\CT_Homeworking-report-June-2021.pdf\n"
     ]
    },
    {
     "name": "stderr",
     "output_type": "stream",
     "text": [
      "Got stderr: Oct 30, 2021 8:17:36 PM org.apache.pdfbox.contentstream.PDFStreamEngine operatorException\n",
      "SEVERE: Cannot read JPEG2000 image: Java Advanced Imaging (JAI) Image I/O Tools are not installed\n",
      "Oct 30, 2021 8:17:36 PM org.apache.pdfbox.contentstream.PDFStreamEngine operatorException\n",
      "SEVERE: Cannot read JPEG2000 image: Java Advanced Imaging (JAI) Image I/O Tools are not installed\n",
      "Oct 30, 2021 8:17:37 PM org.apache.pdfbox.contentstream.PDFStreamEngine operatorException\n",
      "SEVERE: Cannot read JPEG2000 image: Java Advanced Imaging (JAI) Image I/O Tools are not installed\n",
      "Oct 30, 2021 8:17:38 PM org.apache.pdfbox.contentstream.PDFStreamEngine operatorException\n",
      "SEVERE: Cannot read JPEG2000 image: Java Advanced Imaging (JAI) Image I/O Tools are not installed\n",
      "Oct 30, 2021 8:17:38 PM org.apache.pdfbox.contentstream.PDFStreamEngine operatorException\n",
      "SEVERE: Cannot read JPEG2000 image: Java Advanced Imaging (JAI) Image I/O Tools are not installed\n",
      "Oct 30, 2021 8:17:38 PM org.apache.pdfbox.contentstream.PDFStreamEngine operatorException\n",
      "SEVERE: Cannot read JPEG2000 image: Java Advanced Imaging (JAI) Image I/O Tools are not installed\n",
      "Oct 30, 2021 8:17:38 PM org.apache.pdfbox.contentstream.PDFStreamEngine operatorException\n",
      "SEVERE: Cannot read JPEG2000 image: Java Advanced Imaging (JAI) Image I/O Tools are not installed\n",
      "Oct 30, 2021 8:17:39 PM org.apache.pdfbox.contentstream.PDFStreamEngine operatorException\n",
      "SEVERE: Cannot read JPEG2000 image: Java Advanced Imaging (JAI) Image I/O Tools are not installed\n",
      "Oct 30, 2021 8:17:39 PM org.apache.pdfbox.contentstream.PDFStreamEngine operatorException\n",
      "SEVERE: Cannot read JPEG2000 image: Java Advanced Imaging (JAI) Image I/O Tools are not installed\n",
      "Oct 30, 2021 8:17:39 PM org.apache.pdfbox.contentstream.PDFStreamEngine operatorException\n",
      "SEVERE: Cannot read JPEG2000 image: Java Advanced Imaging (JAI) Image I/O Tools are not installed\n",
      "Oct 30, 2021 8:17:39 PM org.apache.pdfbox.contentstream.PDFStreamEngine operatorException\n",
      "SEVERE: Cannot read JPEG2000 image: Java Advanced Imaging (JAI) Image I/O Tools are not installed\n",
      "Oct 30, 2021 8:17:40 PM org.apache.pdfbox.contentstream.PDFStreamEngine operatorException\n",
      "SEVERE: Cannot read JPEG2000 image: Java Advanced Imaging (JAI) Image I/O Tools are not installed\n",
      "\n"
     ]
    },
    {
     "name": "stdout",
     "output_type": "stream",
     "text": [
      "C:\\Users\\jacks\\Documents\\Document(Offline)\\Barcanet\\Data Mining\\Data Mining Test 0.3\\Filtered\\vodafone\\data-supplement-2019.pdf\n",
      "C:\\Users\\jacks\\Documents\\Document(Offline)\\Barcanet\\Data Mining\\Data Mining Test 0.3\\Filtered\\vodafone\\ERT-Climate-Action-Case-Studies_December-2020-4.pdf\n",
      "C:\\Users\\jacks\\Documents\\Document(Offline)\\Barcanet\\Data Mining\\Data Mining Test 0.3\\Filtered\\vodafone\\Mobile-Net-Zero-State-of-the-Industry-on-Climate-Action.pdf\n",
      "C:\\Users\\jacks\\Documents\\Document(Offline)\\Barcanet\\Data Mining\\Data Mining Test 0.3\\Filtered\\vodafone\\TCLPGlossaryEditionTwoSept2020.pdf\n",
      "C:\\Users\\jacks\\Documents\\Document(Offline)\\Barcanet\\Data Mining\\Data Mining Test 0.3\\Filtered\\vodafone\\Vodafone SPO.pdf\n"
     ]
    }
   ],
   "source": [
    "import os\n",
    "import pandas as pd\n",
    "import tabula\n",
    "filepath_fil = r'C:\\Users\\jacks\\Documents\\Document(Offline)\\Barcanet\\Data Mining\\Data Mining Test 0.3\\Filtered'\n",
    "errors=[]\n",
    "directory_contents = os.listdir(filepath_fil)\n",
    "CompanyNames = [ x for x in directory_contents if \".txt\" not in x ]\n",
    "for companyFolder in CompanyNames:\n",
    "        folder = filepath_fil+'\\\\'+companyFolder\n",
    "        print(folder)\n",
    "        PDFs = os.listdir(folder)\n",
    "        print(PDFs)\n",
    "        for PDF in PDFs:\n",
    "                file = folder+'\\\\'+PDF\n",
    "                print(file)\n",
    "                try:\n",
    "                        tables = tabula.read_pdf(file, pages = \"all\", multiple_tables=True)\n",
    "                except ValueError:\n",
    "                        tables=[]\n",
    "                if tables:\n",
    "                        os.mkdir(file[:-4])\n",
    "                        for i in range(len(tables)):\n",
    "                                tables[i].to_csv(file[:-4]+'\\\\'+PDF[:-4]+' Table '+str(i)+'.csv',index=False)\n",
    "\n"
   ]
  },
  {
   "cell_type": "code",
   "execution_count": null,
   "metadata": {},
   "outputs": [],
   "source": []
  }
 ],
 "metadata": {
  "interpreter": {
   "hash": "4c6ca264d172b24b4c025b0dcbb0d6fd1f3cbe68af6d1a1e53410e66c73beeb8"
  },
  "kernelspec": {
   "display_name": "Python 3.7.7 64-bit ('env': venv)",
   "name": "python3"
  },
  "language_info": {
   "codemirror_mode": {
    "name": "ipython",
    "version": 3
   },
   "file_extension": ".py",
   "mimetype": "text/x-python",
   "name": "python",
   "nbconvert_exporter": "python",
   "pygments_lexer": "ipython3",
   "version": "3.7.6"
  },
  "orig_nbformat": 4
 },
 "nbformat": 4,
 "nbformat_minor": 2
}
